{
  "cells": [
    {
      "cell_type": "code",
      "execution_count": null,
      "metadata": {},
      "outputs": [],
      "source": [
        "from google.colab import drive\n",
        "drive.mount('/content/gdrive')"
      ]
    },
    {
      "cell_type": "code",
      "metadata": {
        "id": "7phOKoxMGXKG",
        "colab_type": "code",
        "colab": {}
      },
      "source": [
        "!cp -r \"/content/gdrive/My Drive/eKantipurCSV.zip\" ."
      ],
      "execution_count": 0,
      "outputs": []
    },
    {
      "cell_type": "code",
      "metadata": {
        "id": "lVW-586eHnwU",
        "colab_type": "code",
        "colab": {}
      },
      "source": [
        "!unzip -q /content/eKantipurCSV.zip"
      ],
      "execution_count": 0,
      "outputs": []
    },
    {
      "cell_type": "code",
      "metadata": {
        "id": "lMpu2O_5H2JD",
        "colab_type": "code",
        "colab": {}
      },
      "source": [
        "import pandas as pd\n",
        "import glob\n",
        "import string\n",
        "import re"
      ],
      "execution_count": 0,
      "outputs": []
    },
    {
      "cell_type": "code",
      "metadata": {
        "id": "CGdmAQPNLn26",
        "colab_type": "code",
        "colab": {}
      },
      "source": [
        "files = glob.glob('/content/CSV/*')"
      ],
      "execution_count": 0,
      "outputs": []
    },
    {
      "cell_type": "code",
      "metadata": {
        "id": "Cv_JKFsBLuAD",
        "colab_type": "code",
        "outputId": "7fe68c89-55a0-4cf1-f69a-8c29f685e289",
        "colab": {
          "base_uri": "https://localhost:8080/",
          "height": 282
        }
      },
      "source": [
        "files"
      ],
      "execution_count": 0,
      "outputs": [
        {
          "output_type": "execute_result",
          "data": {
            "text/plain": [
              "['/content/CSV/2018-01-01 to 2018-12-31.csv',\n",
              " '/content/CSV/2017-12-01 to 2017-12-31.csv',\n",
              " '/content/CSV/2017-07-01 to 2017-07-31.csv',\n",
              " '/content/CSV/2017-06-01 to 2017-06-30.csv',\n",
              " '/content/CSV/2017-02-01 to 2017-03-30.csv',\n",
              " '/content/CSV/2017-09-01 to 2017-09-30.csv',\n",
              " '/content/CSV/2017-11-01 to 2017-11-30.csv',\n",
              " '/content/CSV/2017-01-01 to 2017-01-31.csv',\n",
              " '/content/CSV/2017-08-01 to 2017-08-31.csv',\n",
              " '/content/CSV/2019-07-01 to 2019-09-30.csv',\n",
              " '/content/CSV/2019-04-01 to 2019-06-30.csv',\n",
              " '/content/CSV/2019-10-01 to 2019-12-20.csv',\n",
              " '/content/CSV/2017-10-01 to 2017-10-31.csv',\n",
              " '/content/CSV/2019-01-01 to 2019-03-31.csv',\n",
              " '/content/CSV/2017-04-01 to 2017-05-31.csv']"
            ]
          },
          "metadata": {
            "tags": []
          },
          "execution_count": 9
        }
      ]
    },
    {
      "cell_type": "code",
      "metadata": {
        "id": "CZzBqUCjWV6b",
        "colab_type": "code",
        "colab": {}
      },
      "source": [
        "def clean_engchar(line):\n",
        "  line = re.sub(r\"[0-9a-zA-Z]+\", '', line)\n",
        "  return line"
      ],
      "execution_count": 0,
      "outputs": []
    },
    {
      "cell_type": "code",
      "metadata": {
        "id": "peRNIw1Rfh2z",
        "colab_type": "code",
        "colab": {}
      },
      "source": [
        "def clean_punctuation(line):\n",
        "  line = line.translate(str.maketrans('', '', string.punctuation))\n",
        "  line = re.sub('‘|’', '', line)\n",
        "  return line"
      ],
      "execution_count": 0,
      "outputs": []
    },
    {
      "cell_type": "code",
      "metadata": {
        "id": "DfBmCwF2hRQp",
        "colab_type": "code",
        "colab": {}
      },
      "source": [
        "def clean_eKantipur_start(line):\n",
        "  line = re.sub(r\"^.+\\s—\\s\", '', line)\n",
        "  return line"
      ],
      "execution_count": 0,
      "outputs": []
    },
    {
      "cell_type": "code",
      "metadata": {
        "id": "o8SAhu_NvxZ9",
        "colab_type": "code",
        "colab": {}
      },
      "source": [
        "def clean_numbers(line):\n",
        "  if bool(re.search(r'[०१२३४५६७८९]+',line)):\n",
        "    matches = re.finditer(r'[०१२३४५६७८९]+', line)\n",
        "    for match in matches:\n",
        "      line = line.replace(line[match.span()[0]:match.span()[1]], '#'*(match.span()[1]-match.span()[0]))\n",
        "    return line\n",
        "  return line"
      ],
      "execution_count": 0,
      "outputs": []
    },
    {
      "cell_type": "code",
      "metadata": {
        "id": "UufHbdRE3JP1",
        "colab_type": "code",
        "colab": {}
      },
      "source": [
        "import unicodedata\n",
        "def clean_unicodes(line):\n",
        "  line = unicodedata.normalize(\"NFKD\", line)\n",
        "  return line"
      ],
      "execution_count": 0,
      "outputs": []
    },
    {
      "cell_type": "code",
      "metadata": {
        "id": "eh_x-wTNryGE",
        "colab_type": "code",
        "colab": {}
      },
      "source": [
        "def clean_text(line):\n",
        "  return clean_unicodes(clean_numbers(clean_punctuation(clean_engchar(clean_eKantipur_start(line)))))"
      ],
      "execution_count": 0,
      "outputs": []
    },
    {
      "cell_type": "code",
      "metadata": {
        "id": "HVPfNqRwhsVO",
        "colab_type": "code",
        "outputId": "d80d2b9c-c613-4221-9a24-441d245d597e",
        "colab": {
          "base_uri": "https://localhost:8080/",
          "height": 55
        }
      },
      "source": [
        "clean_unicodes('तीन दिनभन्दा लामो बिदा हुँदा सर्वाेच्चले नै जिल्ला अदालतहरूमा न्यायाधीश व्यवस्था गर्ने गरे पनि\\xa0केही दिनदेखि झापा मोरङ र सुनसरी जिल्ला अदालतमा न्यायाधीश नभएको काफ्लेले बताए नेपाल क्याटेगोरीको नाममा हामी कसैको सती किन जानु\\u202f उनले त्यो बेलाको छलफलमा नेपाल क्याटेगोरी लाई सामान्य ढंगले लिएर ताली बजाए पनि विवाद निम्तिन सक्ने जोखिमलाई ध्यानमा राखेर हटाउन सकिने बताए\\n')"
      ],
      "execution_count": 0,
      "outputs": [
        {
          "output_type": "execute_result",
          "data": {
            "text/plain": [
              "'तीन दिनभन्दा लामो बिदा हुँदा सर्वाेच्चले नै जिल्ला अदालतहरूमा न्यायाधीश व्यवस्था गर्ने गरे पनि केही दिनदेखि झापा मोरङ र सुनसरी जिल्ला अदालतमा न्यायाधीश नभएको काफ्लेले बताए नेपाल क्याटेगोरीको नाममा हामी कसैको सती किन जानु  उनले त्यो बेलाको छलफलमा नेपाल क्याटेगोरी लाई सामान्य ढंगले लिएर ताली बजाए पनि विवाद निम्तिन सक्ने जोखिमलाई ध्यानमा राखेर हटाउन सकिने बताए\\n'"
            ]
          },
          "metadata": {
            "tags": []
          },
          "execution_count": 16
        }
      ]
    },
    {
      "cell_type": "code",
      "metadata": {
        "id": "YGCuIptdLu6j",
        "colab_type": "code",
        "colab": {}
      },
      "source": [
        "import re\n",
        "for file in files:\n",
        "  df = pd.read_csv(file)\n",
        "  descriptions = df['description'].unique()\n",
        "  for des in descriptions:\n",
        "    lines = re.split('।|\\n|।\\n', des)\n",
        "    with open('NepText.txt', 'a') as f:\n",
        "      for line in lines:\n",
        "        line = clean_text(line)\n",
        "        if line == '':\n",
        "          pass\n",
        "        else:\n",
        "          f.write(line.strip() + '\\n')\n",
        "  f.close()"
      ],
      "execution_count": 0,
      "outputs": []
    },
    {
      "cell_type": "code",
      "metadata": {
        "id": "gsxXJbXBNgUm",
        "colab_type": "code",
        "colab": {}
      },
      "source": [
        "# saving the preprocessed text to gdrive\n",
        "!cp /content/NepText.txt \"/content/gdrive/My Drive/NLP/\""
      ],
      "execution_count": 0,
      "outputs": []
    },
    {
      "cell_type": "code",
      "metadata": {
        "id": "5zc3y_-AYugZ",
        "colab_type": "code",
        "colab": {}
      },
      "source": [
        "# copying preprocessed text to colab from gdrive\n",
        "!cp \"/content/gdrive/My Drive/NLP/NepText.txt\" /content/"
      ],
      "execution_count": 0,
      "outputs": []
    },
    {
      "cell_type": "code",
      "metadata": {
        "id": "_CDWvEk5QuLu",
        "colab_type": "code",
        "colab": {}
      },
      "source": [
        "with open('/content/NepText.txt') as f:\n",
        "  data = list(set(f.readlines()))\n",
        "  f.close()"
      ],
      "execution_count": 0,
      "outputs": []
    },
    {
      "cell_type": "code",
      "metadata": {
        "id": "hLfXcQRLHUM2",
        "colab_type": "code",
        "colab": {}
      },
      "source": [
        "from tqdm import tqdm"
      ],
      "execution_count": 0,
      "outputs": []
    },
    {
      "cell_type": "code",
      "metadata": {
        "id": "LXpNq6Zl9z04",
        "colab_type": "code",
        "colab": {}
      },
      "source": [
        "# # check nepali numbers\n",
        "# import re\n",
        "# matches = []\n",
        "# for line in data:\n",
        "#   match = re.finditer(r\"[०१२३४५६७८९]+\", line)\n",
        "#   matches.extend(match)"
      ],
      "execution_count": 0,
      "outputs": []
    },
    {
      "cell_type": "code",
      "metadata": {
        "id": "3e4bYgK6PQMa",
        "colab_type": "code",
        "colab": {}
      },
      "source": [
        "# # Check english characters\n",
        "# import re\n",
        "# matches = []\n",
        "# lines = []\n",
        "# for i,line in enumerate(data):\n",
        "#   match = re.finditer(r\"[0-9a-zA-Z]+\", line)\n",
        "#   lines.append(i)\n",
        "#   matches.extend(match)"
      ],
      "execution_count": 0,
      "outputs": []
    },
    {
      "cell_type": "code",
      "metadata": {
        "id": "27McRcxm88yV",
        "colab_type": "code",
        "colab": {}
      },
      "source": [
        "# #data checking\n",
        "# for line in data:\n",
        "#   if 'भएन—' in line:\n",
        "#     print(line)"
      ],
      "execution_count": 0,
      "outputs": []
    },
    {
      "cell_type": "code",
      "metadata": {
        "id": "fHDFeg58MD7e",
        "colab_type": "code",
        "colab": {}
      },
      "source": [
        "from keras.preprocessing.text import Tokenizer"
      ],
      "execution_count": 0,
      "outputs": []
    },
    {
      "cell_type": "code",
      "metadata": {
        "id": "Qt_8kQ2yOqLQ",
        "colab_type": "code",
        "colab": {}
      },
      "source": [
        "vocab_size = 62549 + 1 # This vocab size is selected so there are atleast 3 times repeated words\n",
        "tokenizer = Tokenizer(num_words=vocab_size, filters='\\n')"
      ],
      "execution_count": 0,
      "outputs": []
    },
    {
      "cell_type": "code",
      "metadata": {
        "id": "nCpJZTEFPIDM",
        "colab_type": "code",
        "colab": {}
      },
      "source": [
        "tokenizer.fit_on_texts(data)"
      ],
      "execution_count": 0,
      "outputs": []
    },
    {
      "cell_type": "code",
      "metadata": {
        "id": "_DhHbc2AyOre",
        "colab_type": "code",
        "colab": {}
      },
      "source": [
        "import pickle"
      ],
      "execution_count": 0,
      "outputs": []
    },
    {
      "cell_type": "code",
      "metadata": {
        "id": "-De8ZLv-zLns",
        "colab_type": "code",
        "colab": {}
      },
      "source": [
        "# saving tokenizer for further usage\n",
        "with open('tokenizer.pickle', 'wb') as handle:\n",
        "    pickle.dump(tokenizer, handle, protocol=pickle.HIGHEST_PROTOCOL)"
      ],
      "execution_count": 0,
      "outputs": []
    },
    {
      "cell_type": "code",
      "metadata": {
        "colab_type": "code",
        "id": "cEKU72LkySEH",
        "colab": {}
      },
      "source": [
        "# saving tokenizer data to gdrive\n",
        "!cp /content/tokenizer.pickle \"/content/gdrive/My Drive/NLP/\""
      ],
      "execution_count": 0,
      "outputs": []
    },
    {
      "cell_type": "code",
      "metadata": {
        "colab_type": "code",
        "id": "8QSCOA6WyEu4",
        "colab": {}
      },
      "source": [
        "# loading tokenizer from gdrive\n",
        "!cp \"/content/gdrive/My Drive/NLP/tokenizer.pickle\" ."
      ],
      "execution_count": 0,
      "outputs": []
    },
    {
      "cell_type": "code",
      "metadata": {
        "id": "qJdy92FzzPYf",
        "colab_type": "code",
        "colab": {}
      },
      "source": [
        "# loading tokenizer from pickle file\n",
        "with open('tokenizer.pickle', 'rb') as handle:\n",
        "    tokenizer = pickle.load(handle)"
      ],
      "execution_count": 0,
      "outputs": []
    },
    {
      "cell_type": "code",
      "metadata": {
        "id": "YcTU6tQ3kxmu",
        "colab_type": "code",
        "colab": {}
      },
      "source": [
        "from keras.preprocessing.sequence import make_sampling_table, skipgrams"
      ],
      "execution_count": 0,
      "outputs": []
    },
    {
      "cell_type": "code",
      "metadata": {
        "id": "mafwoYIpgB-E",
        "colab_type": "code",
        "colab": {}
      },
      "source": [
        "import numpy as np"
      ],
      "execution_count": 0,
      "outputs": []
    },
    {
      "cell_type": "code",
      "metadata": {
        "id": "C6Isn-feRsUr",
        "colab_type": "code",
        "colab": {}
      },
      "source": [
        "train_data = np.array(tokenizer.texts_to_sequences(data))"
      ],
      "execution_count": 0,
      "outputs": []
    },
    {
      "cell_type": "code",
      "metadata": {
        "id": "r-C5spCRtChq",
        "colab_type": "code",
        "colab": {}
      },
      "source": [
        "sampling_table = make_sampling_table(size=vocab_size)"
      ],
      "execution_count": 0,
      "outputs": []
    },
    {
      "cell_type": "code",
      "metadata": {
        "id": "gLiXtdEKoQ4i",
        "colab_type": "code",
        "outputId": "b1712039-b1f8-4dca-da7b-e75e918581df",
        "colab": {
          "base_uri": "https://localhost:8080/",
          "height": 35
        }
      },
      "source": [
        "pairs = []\n",
        "labels = []\n",
        "for row in tqdm(train_data):\n",
        "  pair, label = skipgrams(row,vocabulary_size=vocab_size,window_size=5,negative_samples=15,sampling_table=sampling_table)\n",
        "  pairs.extend(pair)\n",
        "  labels.extend(label)"
      ],
      "execution_count": 0,
      "outputs": [
        {
          "output_type": "stream",
          "text": [
            "100%|██████████| 229441/229441 [05:57<00:00, 641.68it/s]\n"
          ],
          "name": "stderr"
        }
      ]
    },
    {
      "cell_type": "code",
      "metadata": {
        "id": "kWkzaUvwNJbq",
        "colab_type": "code",
        "outputId": "cc3130cc-a72a-4c5a-baba-51b03e3ed088",
        "colab": {
          "base_uri": "https://localhost:8080/",
          "height": 35
        }
      },
      "source": [
        "len(labels)"
      ],
      "execution_count": 0,
      "outputs": [
        {
          "output_type": "execute_result",
          "data": {
            "text/plain": [
              "134318704"
            ]
          },
          "metadata": {
            "tags": []
          },
          "execution_count": 31
        }
      ]
    },
    {
      "cell_type": "code",
      "metadata": {
        "id": "HBnYuYbJ1jUE",
        "colab_type": "code",
        "colab": {}
      },
      "source": [
        "pairs = np.array(pairs)\n",
        "labels = np.array(labels)"
      ],
      "execution_count": 0,
      "outputs": []
    },
    {
      "cell_type": "code",
      "metadata": {
        "id": "kwlvKjwW2F-m",
        "colab_type": "code",
        "colab": {}
      },
      "source": [
        "labels = labels.reshape(len(labels),1)"
      ],
      "execution_count": 0,
      "outputs": []
    },
    {
      "cell_type": "code",
      "metadata": {
        "id": "dv9ozlms2hfF",
        "colab_type": "code",
        "outputId": "a77e7582-94c9-49de-a351-c41960154283",
        "colab": {
          "base_uri": "https://localhost:8080/",
          "height": 52
        }
      },
      "source": [
        "print(pairs.shape)\n",
        "print(labels.shape)"
      ],
      "execution_count": 0,
      "outputs": [
        {
          "output_type": "stream",
          "text": [
            "(134318704, 2)\n",
            "(134318704, 1)\n"
          ],
          "name": "stdout"
        }
      ]
    },
    {
      "cell_type": "code",
      "metadata": {
        "id": "QxNp-yL51c3e",
        "colab_type": "code",
        "colab": {}
      },
      "source": [
        "training_data = np.concatenate((pairs, labels), axis=1)"
      ],
      "execution_count": 0,
      "outputs": []
    },
    {
      "cell_type": "code",
      "metadata": {
        "id": "J_0q48443w8t",
        "colab_type": "code",
        "colab": {}
      },
      "source": [
        "# saving the dataset for training\n",
        "np.save('NepWord2VecTrainingData.npy', training_data)"
      ],
      "execution_count": 0,
      "outputs": []
    },
    {
      "cell_type": "code",
      "metadata": {
        "id": "Jsg4iggU4Mo7",
        "colab_type": "code",
        "colab": {}
      },
      "source": [
        "# saving training data to gdrive\n",
        "!cp /content/NepWord2VecTrainingData.npy \"/content/gdrive/My Drive/NLP/\""
      ],
      "execution_count": 0,
      "outputs": []
    },
    {
      "cell_type": "code",
      "metadata": {
        "id": "wz1KRRjRSmpT",
        "colab_type": "code",
        "outputId": "4037e819-8941-4e10-ce10-d91d41e18672",
        "colab": {
          "base_uri": "https://localhost:8080/",
          "height": 55
        }
      },
      "source": [
        "# loading training data from gdrive\n",
        "!cp \"/content/gdrive/My Drive/NLP/NepWord2VecTrainingData.npy\" ."
      ],
      "execution_count": 0,
      "outputs": [
        {
          "output_type": "stream",
          "text": [
            "cp: cannot stat '/content/gdrive/My Drive/NLP/NepWord2VecTrainingData.npy': No such file or directory\n"
          ],
          "name": "stdout"
        }
      ]
    }
  ],
  "metadata": {
    "colab": {
      "name": "Word2Vec preprocessing.ipynb",
      "provenance": [],
      "collapsed_sections": [],
      "machine_shape": "hm"
    },
    "kernelspec": {
      "name": "python3",
      "display_name": "Python 3"
    },
    "accelerator": "GPU"
  },
  "nbformat": 4,
  "nbformat_minor": 0
}