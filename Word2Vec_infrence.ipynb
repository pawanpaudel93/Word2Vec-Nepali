{
  "nbformat": 4,
  "nbformat_minor": 0,
  "metadata": {
    "colab": {
      "name": "Word2Vec infrence.ipynb",
      "provenance": [],
      "collapsed_sections": [],
      "machine_shape": "hm"
    },
    "kernelspec": {
      "name": "python3",
      "display_name": "Python 3"
    },
    "accelerator": "TPU"
  },
  "cells": [
    {
      "cell_type": "code",
      "metadata": {
        "id": "yvXJjbakDdRu",
        "colab_type": "code",
        "outputId": "aa4b8f85-c005-4f8e-bd6d-26e4722a60b7",
        "colab": {
          "base_uri": "https://localhost:8080/",
          "height": 125
        }
      },
      "source": [
        "from google.colab import drive\n",
        "drive.mount('/content/gdrive')"
      ],
      "execution_count": 1,
      "outputs": [
        {
          "output_type": "stream",
          "text": [
            "Go to this URL in a browser: https://accounts.google.com/o/oauth2/auth?client_id=947318989803-6bn6qk8qdgf4n4g3pfee6491hc0brc4i.apps.googleusercontent.com&redirect_uri=urn%3aietf%3awg%3aoauth%3a2.0%3aoob&response_type=code&scope=email%20https%3a%2f%2fwww.googleapis.com%2fauth%2fdocs.test%20https%3a%2f%2fwww.googleapis.com%2fauth%2fdrive%20https%3a%2f%2fwww.googleapis.com%2fauth%2fdrive.photos.readonly%20https%3a%2f%2fwww.googleapis.com%2fauth%2fpeopleapi.readonly\n",
            "\n",
            "Enter your authorization code:\n",
            "··········\n",
            "Mounted at /content/gdrive\n"
          ],
          "name": "stdout"
        }
      ]
    },
    {
      "cell_type": "code",
      "metadata": {
        "id": "ZFPUoOt7Dh4f",
        "colab_type": "code",
        "outputId": "f7260e8c-acd8-4a35-9d9e-bd021780918b",
        "colab": {
          "base_uri": "https://localhost:8080/",
          "height": 35
        }
      },
      "source": [
        "from keras.preprocessing.text import Tokenizer"
      ],
      "execution_count": 2,
      "outputs": [
        {
          "output_type": "stream",
          "text": [
            "Using TensorFlow backend.\n"
          ],
          "name": "stderr"
        }
      ]
    },
    {
      "cell_type": "code",
      "metadata": {
        "id": "kc0uCFNBDt47",
        "colab_type": "code",
        "colab": {}
      },
      "source": [
        "vocab_size = 62549 + 1 # Atleast 3 count needed for word"
      ],
      "execution_count": 0,
      "outputs": []
    },
    {
      "cell_type": "code",
      "metadata": {
        "id": "vBz0DLrqFAxX",
        "colab_type": "code",
        "outputId": "5f849de6-0120-4ba9-c415-7f53e42d8418",
        "colab": {
          "base_uri": "https://localhost:8080/",
          "height": 52
        }
      },
      "source": [
        "!rsync -P \"/content/gdrive/My Drive/NLP/gdrive.py\" ."
      ],
      "execution_count": 4,
      "outputs": [
        {
          "output_type": "stream",
          "text": [
            "gdrive.py\n",
            "\r            964 100%    0.00kB/s    0:00:00  \r            964 100%    0.00kB/s    0:00:00 (xfr#1, to-chk=0/1)\n"
          ],
          "name": "stdout"
        }
      ]
    },
    {
      "cell_type": "code",
      "metadata": {
        "id": "r1_bSHP2FDSU",
        "colab_type": "code",
        "colab": {}
      },
      "source": [
        "from gdrive import download_file_from_google_drive\n",
        "import pickle"
      ],
      "execution_count": 0,
      "outputs": []
    },
    {
      "cell_type": "code",
      "metadata": {
        "id": "QltLvh3vFIPc",
        "colab_type": "code",
        "colab": {}
      },
      "source": [
        "download_file_from_google_drive('178Ulc0pKZCFVMKK0P4V3ldZaxpp35Lh0', '/content/tokenizer.pickle')\n",
        "# download_file_from_google_drive('1uRkPp8cFgE5pD3I6Ge456pO72tMrmHWa', '/content/model.hdf5')"
      ],
      "execution_count": 0,
      "outputs": []
    },
    {
      "cell_type": "code",
      "metadata": {
        "id": "vQPpDRwB_hdW",
        "colab_type": "code",
        "colab": {}
      },
      "source": [
        "from glob import glob"
      ],
      "execution_count": 0,
      "outputs": []
    },
    {
      "cell_type": "code",
      "metadata": {
        "id": "jXExJx0__lN0",
        "colab_type": "code",
        "outputId": "f0e33a2d-df1e-4d44-f8a2-0a68d93a5222",
        "colab": {
          "base_uri": "https://localhost:8080/",
          "height": 35
        }
      },
      "source": [
        "glob('/content/gdrive/My Drive/NLP/Word2Vec/training_logs/Word2Vec-Nepali/checkpoints/*')[-1]"
      ],
      "execution_count": 8,
      "outputs": [
        {
          "output_type": "execute_result",
          "data": {
            "text/plain": [
              "'/content/gdrive/My Drive/NLP/Word2Vec/training_logs/Word2Vec-Nepali/checkpoints/model037.hdf5'"
            ]
          },
          "metadata": {
            "tags": []
          },
          "execution_count": 8
        }
      ]
    },
    {
      "cell_type": "code",
      "metadata": {
        "id": "ojdOb91MDvrL",
        "colab_type": "code",
        "colab": {}
      },
      "source": [
        "# loading\n",
        "with open('tokenizer.pickle', 'rb') as handle:\n",
        "    tokenizer = pickle.load(handle)"
      ],
      "execution_count": 0,
      "outputs": []
    },
    {
      "cell_type": "code",
      "metadata": {
        "id": "FS0p3NwRC-Bi",
        "colab_type": "code",
        "colab": {}
      },
      "source": [
        "# tokenizer.word_counts"
      ],
      "execution_count": 0,
      "outputs": []
    },
    {
      "cell_type": "code",
      "metadata": {
        "id": "0mUl82cJJvn0",
        "colab_type": "code",
        "colab": {}
      },
      "source": [
        "# sorted(tokenizer.word_counts.items(), key= lambda x: x[1], reverse=True)"
      ],
      "execution_count": 0,
      "outputs": []
    },
    {
      "cell_type": "code",
      "metadata": {
        "id": "nFOK8BCrJ9L2",
        "colab_type": "code",
        "colab": {}
      },
      "source": [
        "from tensorflow.python.keras.models import load_model"
      ],
      "execution_count": 0,
      "outputs": []
    },
    {
      "cell_type": "code",
      "metadata": {
        "id": "cv1W41XbAfKF",
        "colab_type": "code",
        "colab": {}
      },
      "source": [
        "from tensorflow.python.keras.layers import Layer\n",
        "from tensorflow.python.keras.layers import Input, Dense, Reshape\n",
        "from tensorflow.python.keras.layers import Embedding\n",
        "from tensorflow.python.keras.layers.merge import dot\n",
        "from tensorflow.python.keras.models import Model,load_model\n",
        "from tensorflow.python.keras.initializers import TruncatedNormal\n",
        "import numpy as np"
      ],
      "execution_count": 0,
      "outputs": []
    },
    {
      "cell_type": "code",
      "metadata": {
        "id": "O2d6pxW9KYqd",
        "colab_type": "code",
        "colab": {}
      },
      "source": [
        "class Word2Vec(Layer):\n",
        "  \n",
        "  def __init__(self, embed_dim, vocab_size, **kwargs):\n",
        "    self.embed_dim = embed_dim\n",
        "    self.vocab_size = vocab_size\n",
        "    super(Word2Vec, self).__init__(**kwargs)\n",
        "  \n",
        "  def build(self, input_shape):\n",
        "    stddev = 1/np.sqrt(self.embed_dim)\n",
        "    initializer = TruncatedNormal(stddev=stddev)\n",
        "    # word embedding shape (10000,300) for my use\n",
        "    # word embedding input=> (batch_size,sequence_length) output => (batch_size, sequence_length, 300(output_dim))\n",
        "    self.word_embedding = Embedding(input_dim=self.vocab_size, output_dim=self.embed_dim, \n",
        "                     input_length=1, name=\"word_embedding\", embeddings_initializer=initializer)\n",
        "    self.context_embedding = Embedding(input_dim=self.vocab_size, output_dim=self.embed_dim, \n",
        "                     input_length=1, name=\"context_embedding\", embeddings_initializer=initializer)\n",
        "#     self.trainable_weights=[self.word_embedding, self.context_embedding]\n",
        "    super(Word2Vec, self).build(input_shape)\n",
        "  \n",
        "  def call(self, inputs, **kwargs):\n",
        "    target_input, context_input = inputs\n",
        "    target = self.word_embedding(target_input)\n",
        "    context = self.context_embedding(context_input)\n",
        "    # shape target: (batch_size, sequence_length, embed_size) => (batch_size,1,300)\n",
        "    # shape context: (batch_size, sequence_length, embed_size) => (batch_size,1,300)\n",
        "    dot_product = dot([target,context], axes=(2,2))\n",
        "    dot_product = Reshape(target_shape=(1,))(dot_product)\n",
        "    output = Dense(1, activation='sigmoid')(dot_product)\n",
        "    return output\n",
        "  \n",
        "  def get_config(self):\n",
        "    config = super(Word2Vec, self).get_config()\n",
        "    config.update({\n",
        "        'embed_dim': self.embed_dim,\n",
        "        'vocab_size': self.vocab_size\n",
        "    })\n",
        "    return config\n",
        "  \n",
        "custom_layers = {\n",
        "    Word2Vec.__name__: Word2Vec\n",
        "}"
      ],
      "execution_count": 0,
      "outputs": []
    },
    {
      "cell_type": "code",
      "metadata": {
        "id": "2Xm20GM3Lf3S",
        "colab_type": "code",
        "outputId": "bb1a15ec-2194-4894-dbb0-8f4dc9e61f97",
        "colab": {
          "base_uri": "https://localhost:8080/",
          "height": 196
        }
      },
      "source": [
        "model = load_model(glob('/content/gdrive/My Drive/NLP/Word2Vec/training_logs/Word2Vec-Nepali/checkpoints/*')[-1], custom_objects=custom_layers)"
      ],
      "execution_count": 19,
      "outputs": [
        {
          "output_type": "stream",
          "text": [
            "WARNING:tensorflow:From /usr/local/lib/python3.6/dist-packages/tensorflow_core/python/keras/initializers.py:94: calling TruncatedNormal.__init__ (from tensorflow.python.ops.init_ops) with dtype is deprecated and will be removed in a future version.\n",
            "Instructions for updating:\n",
            "Call initializer instance with the dtype argument instead of passing it to the constructor\n",
            "WARNING:tensorflow:From /usr/local/lib/python3.6/dist-packages/tensorflow_core/python/ops/resource_variable_ops.py:1630: calling BaseResourceVariable.__init__ (from tensorflow.python.ops.resource_variable_ops) with constraint is deprecated and will be removed in a future version.\n",
            "Instructions for updating:\n",
            "If using Keras pass *_constraint arguments to layers.\n",
            "WARNING:tensorflow:From /usr/local/lib/python3.6/dist-packages/tensorflow_core/python/ops/nn_impl.py:183: where (from tensorflow.python.ops.array_ops) is deprecated and will be removed in a future version.\n",
            "Instructions for updating:\n",
            "Use tf.where in 2.0, which has the same broadcast rule as np.where\n"
          ],
          "name": "stdout"
        }
      ]
    },
    {
      "cell_type": "code",
      "metadata": {
        "id": "oXDluenEKOa0",
        "colab_type": "code",
        "colab": {}
      },
      "source": [
        "# model.load_weights('/content/gdrive/My Drive/NLP/Word2Vec/training_logs/Word2Vec-Nepali/checkpoints/model037.hdf5')"
      ],
      "execution_count": 0,
      "outputs": []
    },
    {
      "cell_type": "code",
      "metadata": {
        "id": "1-Uswy5GKUkm",
        "colab_type": "code",
        "outputId": "2b2d590a-7e96-422e-a177-29b68155a391",
        "colab": {
          "base_uri": "https://localhost:8080/",
          "height": 282
        }
      },
      "source": [
        "model.summary()"
      ],
      "execution_count": 21,
      "outputs": [
        {
          "output_type": "stream",
          "text": [
            "Model: \"Word2Vec\"\n",
            "__________________________________________________________________________________________________\n",
            "Layer (type)                    Output Shape         Param #     Connected to                     \n",
            "==================================================================================================\n",
            "target_input (InputLayer)       [(None, 1)]          0                                            \n",
            "__________________________________________________________________________________________________\n",
            "context_input (InputLayer)      [(None, 1)]          0                                            \n",
            "__________________________________________________________________________________________________\n",
            "word2_vec (Word2Vec)            (None, 1)            37530000    target_input[0][0]               \n",
            "                                                                 context_input[0][0]              \n",
            "==================================================================================================\n",
            "Total params: 37,530,000\n",
            "Trainable params: 37,530,000\n",
            "Non-trainable params: 0\n",
            "__________________________________________________________________________________________________\n"
          ],
          "name": "stdout"
        }
      ]
    },
    {
      "cell_type": "code",
      "metadata": {
        "id": "L5QMtua9Mehe",
        "colab_type": "code",
        "colab": {}
      },
      "source": [
        "word2vec = model.layers[2]"
      ],
      "execution_count": 0,
      "outputs": []
    },
    {
      "cell_type": "code",
      "metadata": {
        "id": "7nXvwWtLN3uS",
        "colab_type": "code",
        "colab": {}
      },
      "source": [
        "word_embedding = word2vec.word_embedding.get_weights()[0][1:]"
      ],
      "execution_count": 0,
      "outputs": []
    },
    {
      "cell_type": "code",
      "metadata": {
        "id": "2E8h9hSHVOXT",
        "colab_type": "code",
        "outputId": "3cf18442-848d-4c99-e4f3-46e8e1ae88a6",
        "colab": {
          "base_uri": "https://localhost:8080/",
          "height": 35
        }
      },
      "source": [
        "word_embedding.shape"
      ],
      "execution_count": 24,
      "outputs": [
        {
          "output_type": "execute_result",
          "data": {
            "text/plain": [
              "(62549, 300)"
            ]
          },
          "metadata": {
            "tags": []
          },
          "execution_count": 24
        }
      ]
    },
    {
      "cell_type": "code",
      "metadata": {
        "id": "OLJLzjnbOCNV",
        "colab_type": "code",
        "colab": {}
      },
      "source": [
        "from sklearn.metrics.pairwise import cosine_distances, cosine_similarity"
      ],
      "execution_count": 0,
      "outputs": []
    },
    {
      "cell_type": "code",
      "metadata": {
        "id": "PMimVIsIO_lY",
        "colab_type": "code",
        "colab": {}
      },
      "source": [
        "# cosine distance = 1 - cosine similarity\n",
        "distance_matrix = cosine_distances(word_embedding)"
      ],
      "execution_count": 0,
      "outputs": []
    },
    {
      "cell_type": "code",
      "metadata": {
        "id": "xb0Kiciyc2Nd",
        "colab_type": "code",
        "outputId": "b244f99b-bc7e-4c73-a801-1b3a7e9e3fcc",
        "colab": {
          "base_uri": "https://localhost:8080/",
          "height": 35
        }
      },
      "source": [
        "distance_matrix.shape"
      ],
      "execution_count": 27,
      "outputs": [
        {
          "output_type": "execute_result",
          "data": {
            "text/plain": [
              "(62549, 62549)"
            ]
          },
          "metadata": {
            "tags": []
          },
          "execution_count": 27
        }
      ]
    },
    {
      "cell_type": "code",
      "metadata": {
        "id": "vVePV-fgc9sK",
        "colab_type": "code",
        "colab": {}
      },
      "source": [
        "# sorted(tokenizer.word_counts.items(), key= lambda x: x[1], reverse=True)"
      ],
      "execution_count": 0,
      "outputs": []
    },
    {
      "cell_type": "code",
      "metadata": {
        "id": "6RME_fLzfW4R",
        "colab_type": "code",
        "outputId": "a3f84c2d-e3d4-482c-80f9-a2d4c991260b",
        "colab": {
          "base_uri": "https://localhost:8080/",
          "height": 35
        }
      },
      "source": [
        "tokenizer.word_index['छ']"
      ],
      "execution_count": 29,
      "outputs": [
        {
          "output_type": "execute_result",
          "data": {
            "text/plain": [
              "1"
            ]
          },
          "metadata": {
            "tags": []
          },
          "execution_count": 29
        }
      ]
    },
    {
      "cell_type": "code",
      "metadata": {
        "id": "fEVUqvPFhxbJ",
        "colab_type": "code",
        "colab": {}
      },
      "source": [
        "distance_matrix[tokenizer.word_index['नेपाल']-1].argsort()\n",
        "import random"
      ],
      "execution_count": 0,
      "outputs": []
    },
    {
      "cell_type": "code",
      "metadata": {
        "id": "W_a7kE77SpZA",
        "colab_type": "code",
        "colab": {}
      },
      "source": [
        "vocab_words = np.array(sorted(tokenizer.word_counts.items(), key= lambda x: x[1], reverse=True))[0:vocab_size-1,0]"
      ],
      "execution_count": 0,
      "outputs": []
    },
    {
      "cell_type": "code",
      "metadata": {
        "id": "zZsalcQhlnDg",
        "colab_type": "code",
        "colab": {}
      },
      "source": [
        "# word = random.choice(vocab_words)"
      ],
      "execution_count": 0,
      "outputs": []
    },
    {
      "cell_type": "code",
      "metadata": {
        "id": "CnV7GNSv_MVP",
        "colab_type": "code",
        "colab": {}
      },
      "source": [
        "def random_similar():\n",
        "  word = random.choice(vocab_words)\n",
        "  similar_words = {word: [tokenizer.index_word[id] for id in distance_matrix[tokenizer.word_index[word]-1].argsort()[1:6]+1]}\n",
        "  print(similar_words)"
      ],
      "execution_count": 0,
      "outputs": []
    },
    {
      "cell_type": "code",
      "metadata": {
        "id": "4z82ZA1IfvRS",
        "colab_type": "code",
        "colab": {}
      },
      "source": [
        "def word_similar(word, count=6):\n",
        "  similar_words = {word: [tokenizer.index_word[id] for id in distance_matrix[tokenizer.word_index[word]-1].argsort()[1:count]+1]}\n",
        "  print(similar_words)"
      ],
      "execution_count": 0,
      "outputs": []
    },
    {
      "cell_type": "code",
      "metadata": {
        "id": "340tudjG_Hmw",
        "colab_type": "code",
        "colab": {
          "base_uri": "https://localhost:8080/",
          "height": 35
        },
        "outputId": "d8e0e9f5-324c-4c45-a89c-02dc5e74392c"
      },
      "source": [
        "word = 'बस'\n",
        "word_similar(word)"
      ],
      "execution_count": 170,
      "outputs": [
        {
          "output_type": "stream",
          "text": [
            "{'बस': ['मिनिबस', 'ट्रक', 'मिनिट्रक', 'जिपका', 'टेम्पो']}\n"
          ],
          "name": "stdout"
        }
      ]
    },
    {
      "cell_type": "code",
      "metadata": {
        "id": "33jrmItRD8EV",
        "colab_type": "code",
        "colab": {
          "base_uri": "https://localhost:8080/",
          "height": 35
        },
        "outputId": "f0321a9e-8cd9-4808-9960-2d9c76766493"
      },
      "source": [
        "word_similar('जनकपुर', 10)"
      ],
      "execution_count": 172,
      "outputs": [
        {
          "output_type": "stream",
          "text": [
            "{'जनकपुर': ['दैलेख–', 'झोराहाट', 'अञ्चल', 'जेसिजका', 'जगदीशप्रसाद', 'रेसुओ', 'जनकपुरको', 'वनबासा', 'डोटीको']}\n"
          ],
          "name": "stdout"
        }
      ]
    },
    {
      "cell_type": "code",
      "metadata": {
        "id": "5Xo1bXCzhhiW",
        "colab_type": "code",
        "colab": {}
      },
      "source": [
        "# tokenizer.word_index['काठमाडौँ']"
      ],
      "execution_count": 0,
      "outputs": []
    },
    {
      "cell_type": "code",
      "metadata": {
        "id": "CYpOymskuBI4",
        "colab_type": "code",
        "colab": {}
      },
      "source": [
        "# query = word_embedding[tokenizer.word_index['राजा']-1].reshape(1, -1) - word_embedding[tokenizer.word_index['रानी']-1].reshape(1, -1) + word_embedding[tokenizer.word_index['महिला']-1].reshape(1, -1)"
      ],
      "execution_count": 0,
      "outputs": []
    },
    {
      "cell_type": "code",
      "metadata": {
        "id": "O4cMf3B7vyMx",
        "colab_type": "code",
        "colab": {}
      },
      "source": [
        "# vocab = np.array(sorted(tokenizer.word_counts.items(), key= lambda x: x[1], reverse=True))[0:62549,0]"
      ],
      "execution_count": 0,
      "outputs": []
    },
    {
      "cell_type": "code",
      "metadata": {
        "id": "f_4DpT-Dv51o",
        "colab_type": "code",
        "colab": {}
      },
      "source": [
        "# scores = {}\n",
        "# for i, word in enumerate(vocab_words):\n",
        "#   scores[word] = cosine_distances(query, word_embedding[tokenizer.word_index[word]-1].reshape(1, -1))"
      ],
      "execution_count": 0,
      "outputs": []
    },
    {
      "cell_type": "code",
      "metadata": {
        "id": "NAzeVYHZ0SwT",
        "colab_type": "code",
        "colab": {}
      },
      "source": [
        "# cosine_similarity(query, word_embedding[tokenizer.word_index['पुरुष']-1].reshape(1, -1))"
      ],
      "execution_count": 0,
      "outputs": []
    },
    {
      "cell_type": "code",
      "metadata": {
        "id": "US4M5qrDx1bw",
        "colab_type": "code",
        "colab": {}
      },
      "source": [
        "# sorted(scores.items(), key=lambda x: x[1], reverse=False)[:20]"
      ],
      "execution_count": 0,
      "outputs": []
    },
    {
      "cell_type": "code",
      "metadata": {
        "id": "R2jpoM5ICVFu",
        "colab_type": "code",
        "colab": {}
      },
      "source": [
        ""
      ],
      "execution_count": 0,
      "outputs": []
    }
  ]
}