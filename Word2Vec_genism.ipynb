{
  "nbformat": 4,
  "nbformat_minor": 0,
  "metadata": {
    "colab": {
      "name": "Word2Vec genism.ipynb",
      "provenance": [],
      "collapsed_sections": [],
      "machine_shape": "hm"
    },
    "kernelspec": {
      "name": "python3",
      "display_name": "Python 3"
    },
    "accelerator": "GPU"
  },
  "cells": [
    {
      "cell_type": "code",
      "metadata": {
        "id": "OO2-M2xz6Igs",
        "colab_type": "code",
        "outputId": "c5447108-2f5c-4a13-d9b6-c3084a1ea400",
        "colab": {
          "base_uri": "https://localhost:8080/",
          "height": 125
        }
      },
      "source": [
        "from google.colab import drive\n",
        "drive.mount('/content/gdrive')"
      ],
      "execution_count": 0,
      "outputs": [
        {
          "output_type": "stream",
          "text": [
            "Go to this URL in a browser: https://accounts.google.com/o/oauth2/auth?client_id=947318989803-6bn6qk8qdgf4n4g3pfee6491hc0brc4i.apps.googleusercontent.com&redirect_uri=urn%3aietf%3awg%3aoauth%3a2.0%3aoob&response_type=code&scope=email%20https%3a%2f%2fwww.googleapis.com%2fauth%2fdocs.test%20https%3a%2f%2fwww.googleapis.com%2fauth%2fdrive%20https%3a%2f%2fwww.googleapis.com%2fauth%2fdrive.photos.readonly%20https%3a%2f%2fwww.googleapis.com%2fauth%2fpeopleapi.readonly\n",
            "\n",
            "Enter your authorization code:\n",
            "··········\n",
            "Mounted at /content/gdrive\n"
          ],
          "name": "stdout"
        }
      ]
    },
    {
      "cell_type": "code",
      "metadata": {
        "id": "mNBQl54oNzwv",
        "colab_type": "code",
        "colab": {}
      },
      "source": [
        "import numpy as np"
      ],
      "execution_count": 0,
      "outputs": []
    },
    {
      "cell_type": "code",
      "metadata": {
        "id": "5zc3y_-AYugZ",
        "colab_type": "code",
        "colab": {}
      },
      "source": [
        "# copying preprocessed text to colab from gdrive\n",
        "!cp \"/content/gdrive/My Drive/NLP/NepText.txt\" /content/"
      ],
      "execution_count": 0,
      "outputs": []
    },
    {
      "cell_type": "code",
      "metadata": {
        "id": "_CDWvEk5QuLu",
        "colab_type": "code",
        "colab": {}
      },
      "source": [
        "with open('/content/NepText.txt') as f:\n",
        "  data = list(set(f.readlines()))\n",
        "  f.close()"
      ],
      "execution_count": 0,
      "outputs": []
    },
    {
      "cell_type": "code",
      "metadata": {
        "id": "FdxOTjxJerlY",
        "colab_type": "code",
        "outputId": "7ecb47ad-923b-4fa9-e410-56bc2bddba27",
        "colab": {
          "base_uri": "https://localhost:8080/",
          "height": 55
        }
      },
      "source": [
        "data[0]"
      ],
      "execution_count": 0,
      "outputs": [
        {
          "output_type": "execute_result",
          "data": {
            "text/plain": [
              "'बाटोका कारण ठाउँठाउँमा गाडी बिग्रँदा यात्रुले भनेको समयमा तोकिएको गन्तव्यमा पुग्न ढिलाइ हुने गरेको कच्ची बाटोमा जस्तै गाडी हल्लिने भएकाले बिरामीहरूलाई यात्रा गर्न निकै दुख हुने गरेको एक यात्रु मकरराज धामीले बताए\\n'"
            ]
          },
          "metadata": {
            "tags": []
          },
          "execution_count": 3
        }
      ]
    },
    {
      "cell_type": "code",
      "metadata": {
        "id": "hLfXcQRLHUM2",
        "colab_type": "code",
        "colab": {}
      },
      "source": [
        "from tqdm import tqdm"
      ],
      "execution_count": 0,
      "outputs": []
    },
    {
      "cell_type": "code",
      "metadata": {
        "id": "wGDFX9850b2a",
        "colab_type": "code",
        "colab": {}
      },
      "source": [
        "import logging\n",
        "logging.basicConfig(format='%(asctime)s : %(levelname)s : %(message)s', level=logging.INFO)"
      ],
      "execution_count": 0,
      "outputs": []
    },
    {
      "cell_type": "code",
      "metadata": {
        "id": "I8fQBsuFtmpU",
        "colab_type": "code",
        "outputId": "96914415-dfff-42f9-8f1c-2126f13a4836",
        "colab": {
          "base_uri": "https://localhost:8080/",
          "height": 35
        }
      },
      "source": [
        "from gensim.models import Word2Vec\n",
        "from gensim.models.phrases import Phrases, Phraser\n",
        "import multiprocessing"
      ],
      "execution_count": 0,
      "outputs": [
        {
          "output_type": "stream",
          "text": [
            "2020-01-13 16:09:02,534 : INFO : 'pattern' package not found; tag filters are not available for English\n"
          ],
          "name": "stderr"
        }
      ]
    },
    {
      "cell_type": "code",
      "metadata": {
        "id": "HmwKTL1fttUd",
        "colab_type": "code",
        "colab": {}
      },
      "source": [
        "sentences = [sent.split() for sent in data]"
      ],
      "execution_count": 0,
      "outputs": []
    },
    {
      "cell_type": "code",
      "metadata": {
        "id": "1mLmiainxpd3",
        "colab_type": "code",
        "outputId": "2c5fd0e4-cfae-493f-8cee-941e73c10d8a",
        "colab": {
          "base_uri": "https://localhost:8080/",
          "height": 583
        }
      },
      "source": [
        "sentences[0]"
      ],
      "execution_count": 0,
      "outputs": [
        {
          "output_type": "execute_result",
          "data": {
            "text/plain": [
              "['बाटोका',\n",
              " 'कारण',\n",
              " 'ठाउँठाउँमा',\n",
              " 'गाडी',\n",
              " 'बिग्रँदा',\n",
              " 'यात्रुले',\n",
              " 'भनेको',\n",
              " 'समयमा',\n",
              " 'तोकिएको',\n",
              " 'गन्तव्यमा',\n",
              " 'पुग्न',\n",
              " 'ढिलाइ',\n",
              " 'हुने',\n",
              " 'गरेको',\n",
              " 'कच्ची',\n",
              " 'बाटोमा',\n",
              " 'जस्तै',\n",
              " 'गाडी',\n",
              " 'हल्लिने',\n",
              " 'भएकाले',\n",
              " 'बिरामीहरूलाई',\n",
              " 'यात्रा',\n",
              " 'गर्न',\n",
              " 'निकै',\n",
              " 'दुख',\n",
              " 'हुने',\n",
              " 'गरेको',\n",
              " 'एक',\n",
              " 'यात्रु',\n",
              " 'मकरराज',\n",
              " 'धामीले',\n",
              " 'बताए']"
            ]
          },
          "metadata": {
            "tags": []
          },
          "execution_count": 8
        }
      ]
    },
    {
      "cell_type": "code",
      "metadata": {
        "id": "FDf7gp_uvMzZ",
        "colab_type": "code",
        "outputId": "bf47478a-1d47-46fe-b23a-1e432556acb9",
        "colab": {
          "base_uri": "https://localhost:8080/",
          "height": 497
        }
      },
      "source": [
        "# Train a bigram model.\n",
        "phrases = Phrases(sentences, min_count=30, progress_per=10000)"
      ],
      "execution_count": 0,
      "outputs": [
        {
          "output_type": "stream",
          "text": [
            "2020-01-13 16:09:05,633 : INFO : collecting all words and their counts\n",
            "2020-01-13 16:09:05,634 : INFO : PROGRESS: at sentence #0, processed 0 words and 0 word types\n",
            "2020-01-13 16:09:05,868 : INFO : PROGRESS: at sentence #10000, processed 138656 words and 133703 word types\n",
            "2020-01-13 16:09:06,095 : INFO : PROGRESS: at sentence #20000, processed 276936 words and 239743 word types\n",
            "2020-01-13 16:09:06,311 : INFO : PROGRESS: at sentence #30000, processed 414159 words and 334913 word types\n",
            "2020-01-13 16:09:06,546 : INFO : PROGRESS: at sentence #40000, processed 553235 words and 425181 word types\n",
            "2020-01-13 16:09:06,774 : INFO : PROGRESS: at sentence #50000, processed 691379 words and 511027 word types\n",
            "2020-01-13 16:09:06,997 : INFO : PROGRESS: at sentence #60000, processed 828678 words and 592582 word types\n",
            "2020-01-13 16:09:07,224 : INFO : PROGRESS: at sentence #70000, processed 967158 words and 672680 word types\n",
            "2020-01-13 16:09:07,476 : INFO : PROGRESS: at sentence #80000, processed 1105847 words and 749810 word types\n",
            "2020-01-13 16:09:07,698 : INFO : PROGRESS: at sentence #90000, processed 1243475 words and 824295 word types\n",
            "2020-01-13 16:09:07,925 : INFO : PROGRESS: at sentence #100000, processed 1381437 words and 897352 word types\n",
            "2020-01-13 16:09:08,162 : INFO : PROGRESS: at sentence #110000, processed 1520120 words and 968721 word types\n",
            "2020-01-13 16:09:08,393 : INFO : PROGRESS: at sentence #120000, processed 1656742 words and 1037729 word types\n",
            "2020-01-13 16:09:08,620 : INFO : PROGRESS: at sentence #130000, processed 1795839 words and 1106715 word types\n",
            "2020-01-13 16:09:08,847 : INFO : PROGRESS: at sentence #140000, processed 1934727 words and 1174103 word types\n",
            "2020-01-13 16:09:09,076 : INFO : PROGRESS: at sentence #150000, processed 2073183 words and 1240745 word types\n",
            "2020-01-13 16:09:09,312 : INFO : PROGRESS: at sentence #160000, processed 2210448 words and 1305676 word types\n",
            "2020-01-13 16:09:09,543 : INFO : PROGRESS: at sentence #170000, processed 2348960 words and 1370293 word types\n",
            "2020-01-13 16:09:09,857 : INFO : PROGRESS: at sentence #180000, processed 2488983 words and 1435126 word types\n",
            "2020-01-13 16:09:10,091 : INFO : PROGRESS: at sentence #190000, processed 2627213 words and 1497578 word types\n",
            "2020-01-13 16:09:10,327 : INFO : PROGRESS: at sentence #200000, processed 2765187 words and 1559057 word types\n",
            "2020-01-13 16:09:10,558 : INFO : PROGRESS: at sentence #210000, processed 2903149 words and 1619795 word types\n",
            "2020-01-13 16:09:10,789 : INFO : PROGRESS: at sentence #220000, processed 3042144 words and 1680309 word types\n",
            "2020-01-13 16:09:11,012 : INFO : collected 1737033 word types from a corpus of 3173340 words (unigram + bigrams) and 229441 sentences\n",
            "2020-01-13 16:09:11,012 : INFO : using 1737033 counts as vocab in Phrases<0 vocab, min_count=30, threshold=10.0, max_vocab_size=40000000>\n"
          ],
          "name": "stderr"
        }
      ]
    },
    {
      "cell_type": "code",
      "metadata": {
        "id": "MrlL_fCdx3lA",
        "colab_type": "code",
        "colab": {}
      },
      "source": [
        "dummy = \"आइतबार राति बिग्रेको अक्सिजन प्लान्ट गत माघ २४ गते जडान गरिएको हो। भारतीय आपूर्तिकर्ता युनिषी इन्डिया (युएनएसएसआई इन्डिया) र नेपाली आपूर्तिकर्ता काठमाडौंको डाइग्नोकेनले उपलब्ध गराएको भएपनि यो समेत गरी तीन पटक बिग्रीसकेको छ। प्रतिष्ठान स्रोतका अनुसार अक्सिजन प्लान्टको कम्प्रेसर मेसिन बिग्रेको बताइएको छ। प्रतिष्ठानका इलेक्ट्रोमेड विभागका प्रमुख इन्जिनियर राहुल मिश्रले भने, ‘प्लान्टमा प्राविधिक समस्या आएको हो। बनाउने प्रयास गरिरहेका छौं। बाँकी जवाफ अस्पताल प्रशासनलाई सोध्नुहोला।\"\n",
        "dummy = dummy.split()"
      ],
      "execution_count": 0,
      "outputs": []
    },
    {
      "cell_type": "code",
      "metadata": {
        "id": "Z_-0hA88xWdp",
        "colab_type": "code",
        "outputId": "5a941437-6ed2-4328-bc67-8f4844e50590",
        "colab": {
          "base_uri": "https://localhost:8080/",
          "height": 1000
        }
      },
      "source": [
        "phrases[dummy]"
      ],
      "execution_count": 0,
      "outputs": [
        {
          "output_type": "stream",
          "text": [
            "/usr/local/lib/python3.6/dist-packages/gensim/models/phrases.py:598: UserWarning: For a faster implementation, use the gensim.models.phrases.Phraser class\n",
            "  warnings.warn(\"For a faster implementation, use the gensim.models.phrases.Phraser class\")\n"
          ],
          "name": "stderr"
        },
        {
          "output_type": "execute_result",
          "data": {
            "text/plain": [
              "['आइतबार_राति',\n",
              " 'बिग्रेको',\n",
              " 'अक्सिजन',\n",
              " 'प्लान्ट',\n",
              " 'गत',\n",
              " 'माघ',\n",
              " '२४',\n",
              " 'गते',\n",
              " 'जडान_गरिएको',\n",
              " 'हो।',\n",
              " 'भारतीय',\n",
              " 'आपूर्तिकर्ता',\n",
              " 'युनिषी',\n",
              " 'इन्डिया',\n",
              " '(युएनएसएसआई',\n",
              " 'इन्डिया)',\n",
              " 'र',\n",
              " 'नेपाली',\n",
              " 'आपूर्तिकर्ता',\n",
              " 'काठमाडौंको',\n",
              " 'डाइग्नोकेनले',\n",
              " 'उपलब्ध_गराएको',\n",
              " 'भएपनि',\n",
              " 'यो',\n",
              " 'समेत',\n",
              " 'गरी',\n",
              " 'तीन',\n",
              " 'पटक',\n",
              " 'बिग्रीसकेको',\n",
              " 'छ।',\n",
              " 'प्रतिष्ठान',\n",
              " 'स्रोतका_अनुसार',\n",
              " 'अक्सिजन',\n",
              " 'प्लान्टको',\n",
              " 'कम्प्रेसर',\n",
              " 'मेसिन',\n",
              " 'बिग्रेको',\n",
              " 'बताइएको',\n",
              " 'छ।',\n",
              " 'प्रतिष्ठानका',\n",
              " 'इलेक्ट्रोमेड',\n",
              " 'विभागका',\n",
              " 'प्रमुख',\n",
              " 'इन्जिनियर',\n",
              " 'राहुल',\n",
              " 'मिश्रले',\n",
              " 'भने,',\n",
              " '‘प्लान्टमा',\n",
              " 'प्राविधिक',\n",
              " 'समस्या',\n",
              " 'आएको',\n",
              " 'हो।',\n",
              " 'बनाउने',\n",
              " 'प्रयास',\n",
              " 'गरिरहेका',\n",
              " 'छौं।',\n",
              " 'बाँकी',\n",
              " 'जवाफ',\n",
              " 'अस्पताल',\n",
              " 'प्रशासनलाई',\n",
              " 'सोध्नुहोला।']"
            ]
          },
          "metadata": {
            "tags": []
          },
          "execution_count": 11
        }
      ]
    },
    {
      "cell_type": "code",
      "metadata": {
        "id": "4MnZ1HIaydIt",
        "colab_type": "code",
        "outputId": "d0710109-9228-4ede-f65f-0eb95782053c",
        "colab": {
          "base_uri": "https://localhost:8080/",
          "height": 52
        }
      },
      "source": [
        "# Export the trained model = use less RAM, faster processing. Model updates no longer possible.\n",
        "bigram = Phraser(phrases)"
      ],
      "execution_count": 0,
      "outputs": [
        {
          "output_type": "stream",
          "text": [
            "2020-01-13 16:09:11,043 : INFO : source_vocab length 1737033\n",
            "2020-01-13 16:09:25,192 : INFO : Phraser built with 2492 phrasegrams\n"
          ],
          "name": "stderr"
        }
      ]
    },
    {
      "cell_type": "code",
      "metadata": {
        "id": "n41HVF2Hyo_c",
        "colab_type": "code",
        "outputId": "dd4d7fa2-ec82-4337-87f0-0b89122b8c86",
        "colab": {
          "base_uri": "https://localhost:8080/",
          "height": 1000
        }
      },
      "source": [
        "bigram[dummy]"
      ],
      "execution_count": 0,
      "outputs": [
        {
          "output_type": "execute_result",
          "data": {
            "text/plain": [
              "['आइतबार_राति',\n",
              " 'बिग्रेको',\n",
              " 'अक्सिजन',\n",
              " 'प्लान्ट',\n",
              " 'गत',\n",
              " 'माघ',\n",
              " '२४',\n",
              " 'गते',\n",
              " 'जडान_गरिएको',\n",
              " 'हो।',\n",
              " 'भारतीय',\n",
              " 'आपूर्तिकर्ता',\n",
              " 'युनिषी',\n",
              " 'इन्डिया',\n",
              " '(युएनएसएसआई',\n",
              " 'इन्डिया)',\n",
              " 'र',\n",
              " 'नेपाली',\n",
              " 'आपूर्तिकर्ता',\n",
              " 'काठमाडौंको',\n",
              " 'डाइग्नोकेनले',\n",
              " 'उपलब्ध_गराएको',\n",
              " 'भएपनि',\n",
              " 'यो',\n",
              " 'समेत',\n",
              " 'गरी',\n",
              " 'तीन',\n",
              " 'पटक',\n",
              " 'बिग्रीसकेको',\n",
              " 'छ।',\n",
              " 'प्रतिष्ठान',\n",
              " 'स्रोतका_अनुसार',\n",
              " 'अक्सिजन',\n",
              " 'प्लान्टको',\n",
              " 'कम्प्रेसर',\n",
              " 'मेसिन',\n",
              " 'बिग्रेको',\n",
              " 'बताइएको',\n",
              " 'छ।',\n",
              " 'प्रतिष्ठानका',\n",
              " 'इलेक्ट्रोमेड',\n",
              " 'विभागका',\n",
              " 'प्रमुख',\n",
              " 'इन्जिनियर',\n",
              " 'राहुल',\n",
              " 'मिश्रले',\n",
              " 'भने,',\n",
              " '‘प्लान्टमा',\n",
              " 'प्राविधिक',\n",
              " 'समस्या',\n",
              " 'आएको',\n",
              " 'हो।',\n",
              " 'बनाउने',\n",
              " 'प्रयास',\n",
              " 'गरिरहेका',\n",
              " 'छौं।',\n",
              " 'बाँकी',\n",
              " 'जवाफ',\n",
              " 'अस्पताल',\n",
              " 'प्रशासनलाई',\n",
              " 'सोध्नुहोला।']"
            ]
          },
          "metadata": {
            "tags": []
          },
          "execution_count": 13
        }
      ]
    },
    {
      "cell_type": "markdown",
      "metadata": {
        "id": "JsWhFFHwzaMv",
        "colab_type": "text"
      },
      "source": [
        "It considered 'आइतबार_राति' as a single token. and others too."
      ]
    },
    {
      "cell_type": "code",
      "metadata": {
        "id": "HmBn_sXivs-O",
        "colab_type": "code",
        "colab": {}
      },
      "source": [
        "import pandas as pd\n",
        "from time import time\n",
        "from collections import defaultdict"
      ],
      "execution_count": 0,
      "outputs": []
    },
    {
      "cell_type": "code",
      "metadata": {
        "id": "xBWvz1vDwql2",
        "colab_type": "code",
        "colab": {}
      },
      "source": [
        "# bigram containing sentences\n",
        "bigram_sentences = bigram[sentences]"
      ],
      "execution_count": 0,
      "outputs": []
    },
    {
      "cell_type": "code",
      "metadata": {
        "id": "Dzj3HrVEz1Lh",
        "colab_type": "code",
        "outputId": "19d30b85-477f-48b6-da48-949c2ba28d32",
        "colab": {
          "base_uri": "https://localhost:8080/",
          "height": 583
        }
      },
      "source": [
        "bigram_sentences[0]"
      ],
      "execution_count": 0,
      "outputs": [
        {
          "output_type": "execute_result",
          "data": {
            "text/plain": [
              "['बाटोका',\n",
              " 'कारण',\n",
              " 'ठाउँठाउँमा',\n",
              " 'गाडी',\n",
              " 'बिग्रँदा',\n",
              " 'यात्रुले',\n",
              " 'भनेको',\n",
              " 'समयमा',\n",
              " 'तोकिएको',\n",
              " 'गन्तव्यमा',\n",
              " 'पुग्न',\n",
              " 'ढिलाइ',\n",
              " 'हुने',\n",
              " 'गरेको',\n",
              " 'कच्ची',\n",
              " 'बाटोमा',\n",
              " 'जस्तै',\n",
              " 'गाडी',\n",
              " 'हल्लिने',\n",
              " 'भएकाले',\n",
              " 'बिरामीहरूलाई',\n",
              " 'यात्रा',\n",
              " 'गर्न',\n",
              " 'निकै',\n",
              " 'दुख',\n",
              " 'हुने',\n",
              " 'गरेको',\n",
              " 'एक',\n",
              " 'यात्रु',\n",
              " 'मकरराज',\n",
              " 'धामीले',\n",
              " 'बताए']"
            ]
          },
          "metadata": {
            "tags": []
          },
          "execution_count": 16
        }
      ]
    },
    {
      "cell_type": "code",
      "metadata": {
        "id": "LzzSMUfEz4C4",
        "colab_type": "code",
        "outputId": "c6399481-1ba1-4cc0-fdd8-975cfbcf441f",
        "colab": {
          "base_uri": "https://localhost:8080/",
          "height": 35
        }
      },
      "source": [
        "# Count the number of cores\n",
        "cores = multiprocessing.cpu_count()\n",
        "cores"
      ],
      "execution_count": 0,
      "outputs": [
        {
          "output_type": "execute_result",
          "data": {
            "text/plain": [
              "4"
            ]
          },
          "metadata": {
            "tags": []
          },
          "execution_count": 17
        }
      ]
    },
    {
      "cell_type": "code",
      "metadata": {
        "id": "xwUYIlUn033q",
        "colab_type": "code",
        "colab": {}
      },
      "source": [
        "# all value as in my deep network model\n",
        "model = Word2Vec(min_count=5,\n",
        "                     window=5,\n",
        "                     size=300,\n",
        "                     sample=1e-05, \n",
        "                     alpha=0.03, \n",
        "                     min_alpha=0.0007, \n",
        "                     negative=15,\n",
        "                     workers=4)"
      ],
      "execution_count": 0,
      "outputs": []
    },
    {
      "cell_type": "code",
      "metadata": {
        "id": "LO3avYYC2I2u",
        "colab_type": "code",
        "outputId": "47a1709c-240f-43c4-9146-aac2695bd3f7",
        "colab": {
          "base_uri": "https://localhost:8080/",
          "height": 621
        }
      },
      "source": [
        "model.build_vocab(bigram_sentences, progress_per=10000)"
      ],
      "execution_count": 0,
      "outputs": [
        {
          "output_type": "stream",
          "text": [
            "2020-01-13 16:09:44,526 : INFO : collecting all words and their counts\n",
            "2020-01-13 16:09:44,528 : INFO : PROGRESS: at sentence #0, processed 0 words, keeping 0 word types\n",
            "2020-01-13 16:09:44,905 : INFO : PROGRESS: at sentence #10000, processed 127097 words, keeping 33319 word types\n",
            "2020-01-13 16:09:45,281 : INFO : PROGRESS: at sentence #20000, processed 253885 words, keeping 50858 word types\n",
            "2020-01-13 16:09:45,649 : INFO : PROGRESS: at sentence #30000, processed 379574 words, keeping 64738 word types\n",
            "2020-01-13 16:09:46,031 : INFO : PROGRESS: at sentence #40000, processed 506834 words, keeping 76704 word types\n",
            "2020-01-13 16:09:46,420 : INFO : PROGRESS: at sentence #50000, processed 633281 words, keeping 87542 word types\n",
            "2020-01-13 16:09:46,795 : INFO : PROGRESS: at sentence #60000, processed 759262 words, keeping 97031 word types\n",
            "2020-01-13 16:09:47,175 : INFO : PROGRESS: at sentence #70000, processed 886352 words, keeping 106290 word types\n",
            "2020-01-13 16:09:47,556 : INFO : PROGRESS: at sentence #80000, processed 1013388 words, keeping 114895 word types\n",
            "2020-01-13 16:09:47,929 : INFO : PROGRESS: at sentence #90000, processed 1139488 words, keeping 122835 word types\n",
            "2020-01-13 16:09:48,318 : INFO : PROGRESS: at sentence #100000, processed 1265922 words, keeping 130504 word types\n",
            "2020-01-13 16:09:48,695 : INFO : PROGRESS: at sentence #110000, processed 1393052 words, keeping 137715 word types\n",
            "2020-01-13 16:09:49,070 : INFO : PROGRESS: at sentence #120000, processed 1518231 words, keeping 144711 word types\n",
            "2020-01-13 16:09:49,454 : INFO : PROGRESS: at sentence #130000, processed 1645698 words, keeping 151407 word types\n",
            "2020-01-13 16:09:49,840 : INFO : PROGRESS: at sentence #140000, processed 1772937 words, keeping 157788 word types\n",
            "2020-01-13 16:09:50,229 : INFO : PROGRESS: at sentence #150000, processed 1899855 words, keeping 164092 word types\n",
            "2020-01-13 16:09:50,609 : INFO : PROGRESS: at sentence #160000, processed 2025617 words, keeping 170158 word types\n",
            "2020-01-13 16:09:50,984 : INFO : PROGRESS: at sentence #170000, processed 2152477 words, keeping 176046 word types\n",
            "2020-01-13 16:09:51,382 : INFO : PROGRESS: at sentence #180000, processed 2280991 words, keeping 182021 word types\n",
            "2020-01-13 16:09:51,786 : INFO : PROGRESS: at sentence #190000, processed 2407700 words, keeping 187660 word types\n",
            "2020-01-13 16:09:52,162 : INFO : PROGRESS: at sentence #200000, processed 2534088 words, keeping 193119 word types\n",
            "2020-01-13 16:09:52,545 : INFO : PROGRESS: at sentence #210000, processed 2660399 words, keeping 198430 word types\n",
            "2020-01-13 16:09:52,916 : INFO : PROGRESS: at sentence #220000, processed 2787669 words, keeping 203677 word types\n",
            "2020-01-13 16:09:53,283 : INFO : collected 208606 word types from a corpus of 2907935 raw words and 229441 sentences\n",
            "2020-01-13 16:09:53,284 : INFO : Loading a fresh vocabulary\n",
            "2020-01-13 16:09:53,431 : INFO : effective_min_count=5 retains 43757 unique words (20% of original 208606, drops 164849)\n",
            "2020-01-13 16:09:53,431 : INFO : effective_min_count=5 leaves 2664525 word corpus (91% of original 2907935, drops 243410)\n",
            "2020-01-13 16:09:53,569 : INFO : deleting the raw counts dictionary of 208606 items\n",
            "2020-01-13 16:09:53,574 : INFO : sample=1e-05 downsamples 5971 most-common words\n",
            "2020-01-13 16:09:53,575 : INFO : downsampling leaves estimated 1265367 word corpus (47.5% of prior 2664525)\n",
            "2020-01-13 16:09:53,675 : INFO : estimated required memory for 43757 words and 300 dimensions: 126895300 bytes\n",
            "2020-01-13 16:09:53,676 : INFO : resetting layer weights\n"
          ],
          "name": "stderr"
        }
      ]
    },
    {
      "cell_type": "code",
      "metadata": {
        "id": "HcXl5VvL2Q17",
        "colab_type": "code",
        "outputId": "92135c8a-1c4d-46ee-87a2-808f4f7fc5f5",
        "colab": {
          "base_uri": "https://localhost:8080/",
          "height": 1000
        }
      },
      "source": [
        "model.train(bigram_sentences, total_examples=model.corpus_count, epochs=30, report_delay=1)"
      ],
      "execution_count": 0,
      "outputs": [
        {
          "output_type": "stream",
          "text": [
            "2020-01-13 16:10:04,419 : INFO : training model with 4 workers on 43757 vocabulary and 300 features, using sg=0 hs=0 sample=1e-05 negative=15 window=5\n",
            "2020-01-13 16:10:05,463 : INFO : EPOCH 1 - PROGRESS: at 6.86% examples, 84232 words/s, in_qsize 0, out_qsize 0\n",
            "2020-01-13 16:10:06,492 : INFO : EPOCH 1 - PROGRESS: at 15.84% examples, 97040 words/s, in_qsize 0, out_qsize 0\n",
            "2020-01-13 16:10:07,531 : INFO : EPOCH 1 - PROGRESS: at 25.13% examples, 102373 words/s, in_qsize 0, out_qsize 0\n",
            "2020-01-13 16:10:08,556 : INFO : EPOCH 1 - PROGRESS: at 34.38% examples, 105412 words/s, in_qsize 0, out_qsize 0\n",
            "2020-01-13 16:10:09,573 : INFO : EPOCH 1 - PROGRESS: at 43.35% examples, 106627 words/s, in_qsize 0, out_qsize 0\n",
            "2020-01-13 16:10:10,584 : INFO : EPOCH 1 - PROGRESS: at 52.66% examples, 108221 words/s, in_qsize 0, out_qsize 0\n",
            "2020-01-13 16:10:11,605 : INFO : EPOCH 1 - PROGRESS: at 61.90% examples, 109114 words/s, in_qsize 0, out_qsize 0\n",
            "2020-01-13 16:10:12,632 : INFO : EPOCH 1 - PROGRESS: at 70.85% examples, 109238 words/s, in_qsize 0, out_qsize 0\n",
            "2020-01-13 16:10:13,673 : INFO : EPOCH 1 - PROGRESS: at 80.08% examples, 109667 words/s, in_qsize 1, out_qsize 0\n",
            "2020-01-13 16:10:14,702 : INFO : EPOCH 1 - PROGRESS: at 89.38% examples, 110110 words/s, in_qsize 0, out_qsize 0\n",
            "2020-01-13 16:10:15,729 : INFO : EPOCH 1 - PROGRESS: at 98.29% examples, 110076 words/s, in_qsize 0, out_qsize 0\n",
            "2020-01-13 16:10:15,865 : INFO : worker thread finished; awaiting finish of 3 more threads\n",
            "2020-01-13 16:10:15,867 : INFO : worker thread finished; awaiting finish of 2 more threads\n",
            "2020-01-13 16:10:15,867 : INFO : worker thread finished; awaiting finish of 1 more threads\n",
            "2020-01-13 16:10:15,898 : INFO : worker thread finished; awaiting finish of 0 more threads\n",
            "2020-01-13 16:10:15,898 : INFO : EPOCH - 1 : training on 2907935 raw words (1265505 effective words) took 11.5s, 110349 effective words/s\n",
            "2020-01-13 16:10:16,958 : INFO : EPOCH 2 - PROGRESS: at 8.92% examples, 107285 words/s, in_qsize 0, out_qsize 0\n",
            "2020-01-13 16:10:17,963 : INFO : EPOCH 2 - PROGRESS: at 18.21% examples, 112084 words/s, in_qsize 0, out_qsize 0\n",
            "2020-01-13 16:10:18,964 : INFO : EPOCH 2 - PROGRESS: at 27.20% examples, 112342 words/s, in_qsize 0, out_qsize 0\n",
            "2020-01-13 16:10:19,987 : INFO : EPOCH 2 - PROGRESS: at 36.09% examples, 111897 words/s, in_qsize 0, out_qsize 0\n",
            "2020-01-13 16:10:21,006 : INFO : EPOCH 2 - PROGRESS: at 43.69% examples, 108277 words/s, in_qsize 0, out_qsize 0\n",
            "2020-01-13 16:10:22,031 : INFO : EPOCH 2 - PROGRESS: at 52.99% examples, 109350 words/s, in_qsize 0, out_qsize 0\n",
            "2020-01-13 16:10:23,064 : INFO : EPOCH 2 - PROGRESS: at 61.90% examples, 109346 words/s, in_qsize 0, out_qsize 0\n",
            "2020-01-13 16:10:24,118 : INFO : EPOCH 2 - PROGRESS: at 70.85% examples, 109134 words/s, in_qsize 0, out_qsize 0\n",
            "2020-01-13 16:10:25,118 : INFO : EPOCH 2 - PROGRESS: at 79.40% examples, 109069 words/s, in_qsize 0, out_qsize 0\n",
            "2020-01-13 16:10:26,151 : INFO : EPOCH 2 - PROGRESS: at 88.35% examples, 109133 words/s, in_qsize 0, out_qsize 0\n",
            "2020-01-13 16:10:27,188 : INFO : EPOCH 2 - PROGRESS: at 97.28% examples, 109115 words/s, in_qsize 1, out_qsize 0\n",
            "2020-01-13 16:10:27,441 : INFO : worker thread finished; awaiting finish of 3 more threads\n",
            "2020-01-13 16:10:27,443 : INFO : worker thread finished; awaiting finish of 2 more threads\n",
            "2020-01-13 16:10:27,444 : INFO : worker thread finished; awaiting finish of 1 more threads\n",
            "2020-01-13 16:10:27,473 : INFO : worker thread finished; awaiting finish of 0 more threads\n",
            "2020-01-13 16:10:27,474 : INFO : EPOCH - 2 : training on 2907935 raw words (1265773 effective words) took 11.6s, 109412 effective words/s\n",
            "2020-01-13 16:10:28,488 : INFO : EPOCH 3 - PROGRESS: at 8.24% examples, 103710 words/s, in_qsize 0, out_qsize 0\n",
            "2020-01-13 16:10:29,509 : INFO : EPOCH 3 - PROGRESS: at 17.88% examples, 111475 words/s, in_qsize 0, out_qsize 0\n",
            "2020-01-13 16:10:30,535 : INFO : EPOCH 3 - PROGRESS: at 27.20% examples, 112498 words/s, in_qsize 0, out_qsize 0\n",
            "2020-01-13 16:10:31,566 : INFO : EPOCH 3 - PROGRESS: at 36.79% examples, 113973 words/s, in_qsize 0, out_qsize 0\n",
            "2020-01-13 16:10:32,587 : INFO : EPOCH 3 - PROGRESS: at 46.08% examples, 114133 words/s, in_qsize 0, out_qsize 0\n",
            "2020-01-13 16:10:33,604 : INFO : EPOCH 3 - PROGRESS: at 55.06% examples, 113654 words/s, in_qsize 0, out_qsize 0\n",
            "2020-01-13 16:10:34,617 : INFO : EPOCH 3 - PROGRESS: at 63.96% examples, 113365 words/s, in_qsize 0, out_qsize 0\n",
            "2020-01-13 16:10:35,623 : INFO : EPOCH 3 - PROGRESS: at 71.21% examples, 110560 words/s, in_qsize 0, out_qsize 0\n",
            "2020-01-13 16:10:36,645 : INFO : EPOCH 3 - PROGRESS: at 80.08% examples, 110601 words/s, in_qsize 0, out_qsize 0\n",
            "2020-01-13 16:10:37,668 : INFO : EPOCH 3 - PROGRESS: at 89.04% examples, 110607 words/s, in_qsize 0, out_qsize 0\n",
            "2020-01-13 16:10:38,676 : INFO : EPOCH 3 - PROGRESS: at 98.29% examples, 111121 words/s, in_qsize 0, out_qsize 0\n",
            "2020-01-13 16:10:38,837 : INFO : worker thread finished; awaiting finish of 3 more threads\n",
            "2020-01-13 16:10:38,837 : INFO : worker thread finished; awaiting finish of 2 more threads\n",
            "2020-01-13 16:10:38,839 : INFO : worker thread finished; awaiting finish of 1 more threads\n",
            "2020-01-13 16:10:38,867 : INFO : worker thread finished; awaiting finish of 0 more threads\n",
            "2020-01-13 16:10:38,868 : INFO : EPOCH - 3 : training on 2907935 raw words (1265672 effective words) took 11.4s, 111155 effective words/s\n",
            "2020-01-13 16:10:39,885 : INFO : EPOCH 4 - PROGRESS: at 8.57% examples, 107882 words/s, in_qsize 0, out_qsize 0\n",
            "2020-01-13 16:10:40,932 : INFO : EPOCH 4 - PROGRESS: at 17.88% examples, 110006 words/s, in_qsize 0, out_qsize 0\n",
            "2020-01-13 16:10:41,953 : INFO : EPOCH 4 - PROGRESS: at 26.86% examples, 110254 words/s, in_qsize 0, out_qsize 0\n",
            "2020-01-13 16:10:42,985 : INFO : EPOCH 4 - PROGRESS: at 35.75% examples, 110107 words/s, in_qsize 0, out_qsize 0\n",
            "2020-01-13 16:10:44,015 : INFO : EPOCH 4 - PROGRESS: at 44.73% examples, 110073 words/s, in_qsize 0, out_qsize 0\n",
            "2020-01-13 16:10:45,042 : INFO : EPOCH 4 - PROGRESS: at 54.02% examples, 110810 words/s, in_qsize 0, out_qsize 0\n",
            "2020-01-13 16:10:46,105 : INFO : EPOCH 4 - PROGRESS: at 63.26% examples, 110777 words/s, in_qsize 1, out_qsize 0\n",
            "2020-01-13 16:10:47,113 : INFO : EPOCH 4 - PROGRESS: at 72.24% examples, 110982 words/s, in_qsize 0, out_qsize 0\n",
            "2020-01-13 16:10:48,134 : INFO : EPOCH 4 - PROGRESS: at 81.11% examples, 110983 words/s, in_qsize 1, out_qsize 0\n",
            "2020-01-13 16:10:49,146 : INFO : EPOCH 4 - PROGRESS: at 90.06% examples, 111032 words/s, in_qsize 1, out_qsize 0\n",
            "2020-01-13 16:10:50,180 : INFO : EPOCH 4 - PROGRESS: at 99.31% examples, 111261 words/s, in_qsize 0, out_qsize 0\n",
            "2020-01-13 16:10:50,212 : INFO : worker thread finished; awaiting finish of 3 more threads\n",
            "2020-01-13 16:10:50,215 : INFO : worker thread finished; awaiting finish of 2 more threads\n",
            "2020-01-13 16:10:50,238 : INFO : worker thread finished; awaiting finish of 1 more threads\n",
            "2020-01-13 16:10:50,246 : INFO : worker thread finished; awaiting finish of 0 more threads\n",
            "2020-01-13 16:10:50,247 : INFO : EPOCH - 4 : training on 2907935 raw words (1266365 effective words) took 11.4s, 111371 effective words/s\n",
            "2020-01-13 16:10:51,287 : INFO : EPOCH 5 - PROGRESS: at 7.19% examples, 88449 words/s, in_qsize 0, out_qsize 0\n",
            "2020-01-13 16:10:52,298 : INFO : EPOCH 5 - PROGRESS: at 15.84% examples, 97891 words/s, in_qsize 1, out_qsize 0\n",
            "2020-01-13 16:10:53,302 : INFO : EPOCH 5 - PROGRESS: at 24.78% examples, 102664 words/s, in_qsize 0, out_qsize 0\n",
            "2020-01-13 16:10:54,307 : INFO : EPOCH 5 - PROGRESS: at 33.70% examples, 105100 words/s, in_qsize 0, out_qsize 0\n",
            "2020-01-13 16:10:55,322 : INFO : EPOCH 5 - PROGRESS: at 42.31% examples, 105570 words/s, in_qsize 0, out_qsize 0\n",
            "2020-01-13 16:10:56,328 : INFO : EPOCH 5 - PROGRESS: at 51.28% examples, 106717 words/s, in_qsize 0, out_qsize 0\n",
            "2020-01-13 16:10:57,352 : INFO : EPOCH 5 - PROGRESS: at 60.18% examples, 107246 words/s, in_qsize 0, out_qsize 0\n",
            "2020-01-13 16:10:58,368 : INFO : EPOCH 5 - PROGRESS: at 69.14% examples, 107752 words/s, in_qsize 1, out_qsize 0\n",
            "2020-01-13 16:10:59,372 : INFO : EPOCH 5 - PROGRESS: at 78.36% examples, 108753 words/s, in_qsize 0, out_qsize 0\n",
            "2020-01-13 16:11:00,417 : INFO : EPOCH 5 - PROGRESS: at 87.66% examples, 109116 words/s, in_qsize 0, out_qsize 0\n",
            "2020-01-13 16:11:01,438 : INFO : EPOCH 5 - PROGRESS: at 96.93% examples, 109642 words/s, in_qsize 0, out_qsize 0\n",
            "2020-01-13 16:11:01,753 : INFO : worker thread finished; awaiting finish of 3 more threads\n",
            "2020-01-13 16:11:01,757 : INFO : worker thread finished; awaiting finish of 2 more threads\n",
            "2020-01-13 16:11:01,758 : INFO : worker thread finished; awaiting finish of 1 more threads\n",
            "2020-01-13 16:11:01,784 : INFO : worker thread finished; awaiting finish of 0 more threads\n",
            "2020-01-13 16:11:01,785 : INFO : EPOCH - 5 : training on 2907935 raw words (1265477 effective words) took 11.5s, 109747 effective words/s\n",
            "2020-01-13 16:11:02,827 : INFO : EPOCH 6 - PROGRESS: at 8.24% examples, 100931 words/s, in_qsize 0, out_qsize 0\n",
            "2020-01-13 16:11:03,852 : INFO : EPOCH 6 - PROGRESS: at 17.53% examples, 107606 words/s, in_qsize 0, out_qsize 0\n",
            "2020-01-13 16:11:04,884 : INFO : EPOCH 6 - PROGRESS: at 26.16% examples, 106836 words/s, in_qsize 0, out_qsize 0\n",
            "2020-01-13 16:11:05,892 : INFO : EPOCH 6 - PROGRESS: at 35.06% examples, 108107 words/s, in_qsize 0, out_qsize 0\n",
            "2020-01-13 16:11:06,894 : INFO : EPOCH 6 - PROGRESS: at 42.31% examples, 104762 words/s, in_qsize 0, out_qsize 0\n",
            "2020-01-13 16:11:07,896 : INFO : EPOCH 6 - PROGRESS: at 50.59% examples, 104621 words/s, in_qsize 0, out_qsize 1\n",
            "2020-01-13 16:11:08,913 : INFO : EPOCH 6 - PROGRESS: at 59.84% examples, 106203 words/s, in_qsize 0, out_qsize 0\n",
            "2020-01-13 16:11:09,914 : INFO : EPOCH 6 - PROGRESS: at 68.80% examples, 107024 words/s, in_qsize 0, out_qsize 0\n",
            "2020-01-13 16:11:10,946 : INFO : EPOCH 6 - PROGRESS: at 78.03% examples, 107804 words/s, in_qsize 0, out_qsize 0\n",
            "2020-01-13 16:11:11,946 : INFO : EPOCH 6 - PROGRESS: at 86.96% examples, 108309 words/s, in_qsize 0, out_qsize 0\n",
            "2020-01-13 16:11:12,956 : INFO : EPOCH 6 - PROGRESS: at 95.89% examples, 108648 words/s, in_qsize 0, out_qsize 0\n",
            "2020-01-13 16:11:13,390 : INFO : worker thread finished; awaiting finish of 3 more threads\n",
            "2020-01-13 16:11:13,395 : INFO : worker thread finished; awaiting finish of 2 more threads\n",
            "2020-01-13 16:11:13,396 : INFO : worker thread finished; awaiting finish of 1 more threads\n",
            "2020-01-13 16:11:13,420 : INFO : worker thread finished; awaiting finish of 0 more threads\n",
            "2020-01-13 16:11:13,421 : INFO : EPOCH - 6 : training on 2907935 raw words (1265255 effective words) took 11.6s, 108814 effective words/s\n",
            "2020-01-13 16:11:14,464 : INFO : EPOCH 7 - PROGRESS: at 8.57% examples, 105188 words/s, in_qsize 1, out_qsize 0\n",
            "2020-01-13 16:11:15,465 : INFO : EPOCH 7 - PROGRESS: at 17.53% examples, 108858 words/s, in_qsize 0, out_qsize 0\n",
            "2020-01-13 16:11:16,492 : INFO : EPOCH 7 - PROGRESS: at 26.86% examples, 110740 words/s, in_qsize 0, out_qsize 0\n",
            "2020-01-13 16:11:17,505 : INFO : EPOCH 7 - PROGRESS: at 35.75% examples, 110922 words/s, in_qsize 0, out_qsize 0\n",
            "2020-01-13 16:11:18,530 : INFO : EPOCH 7 - PROGRESS: at 44.73% examples, 110837 words/s, in_qsize 0, out_qsize 0\n",
            "2020-01-13 16:11:19,583 : INFO : EPOCH 7 - PROGRESS: at 54.02% examples, 110963 words/s, in_qsize 0, out_qsize 0\n",
            "2020-01-13 16:11:20,613 : INFO : EPOCH 7 - PROGRESS: at 62.93% examples, 110851 words/s, in_qsize 0, out_qsize 0\n",
            "2020-01-13 16:11:21,614 : INFO : EPOCH 7 - PROGRESS: at 70.51% examples, 108961 words/s, in_qsize 0, out_qsize 0\n",
            "2020-01-13 16:11:22,617 : INFO : EPOCH 7 - PROGRESS: at 78.71% examples, 108416 words/s, in_qsize 0, out_qsize 0\n",
            "2020-01-13 16:11:23,638 : INFO : EPOCH 7 - PROGRESS: at 87.66% examples, 108629 words/s, in_qsize 0, out_qsize 0\n",
            "2020-01-13 16:11:24,660 : INFO : EPOCH 7 - PROGRESS: at 96.58% examples, 108785 words/s, in_qsize 0, out_qsize 0\n",
            "2020-01-13 16:11:24,983 : INFO : worker thread finished; awaiting finish of 3 more threads\n",
            "2020-01-13 16:11:24,987 : INFO : worker thread finished; awaiting finish of 2 more threads\n",
            "2020-01-13 16:11:25,000 : INFO : worker thread finished; awaiting finish of 1 more threads\n",
            "2020-01-13 16:11:25,018 : INFO : worker thread finished; awaiting finish of 0 more threads\n",
            "2020-01-13 16:11:25,018 : INFO : EPOCH - 7 : training on 2907935 raw words (1265334 effective words) took 11.6s, 109186 effective words/s\n",
            "2020-01-13 16:11:26,060 : INFO : EPOCH 8 - PROGRESS: at 8.57% examples, 105127 words/s, in_qsize 0, out_qsize 0\n",
            "2020-01-13 16:11:27,097 : INFO : EPOCH 8 - PROGRESS: at 17.53% examples, 106988 words/s, in_qsize 1, out_qsize 0\n",
            "2020-01-13 16:11:28,118 : INFO : EPOCH 8 - PROGRESS: at 26.86% examples, 109631 words/s, in_qsize 0, out_qsize 0\n",
            "2020-01-13 16:11:29,134 : INFO : EPOCH 8 - PROGRESS: at 35.75% examples, 110048 words/s, in_qsize 0, out_qsize 0\n",
            "2020-01-13 16:11:30,161 : INFO : EPOCH 8 - PROGRESS: at 45.07% examples, 110892 words/s, in_qsize 0, out_qsize 0\n",
            "2020-01-13 16:11:31,180 : INFO : EPOCH 8 - PROGRESS: at 54.37% examples, 111608 words/s, in_qsize 0, out_qsize 0\n",
            "2020-01-13 16:11:32,219 : INFO : EPOCH 8 - PROGRESS: at 63.60% examples, 111802 words/s, in_qsize 0, out_qsize 0\n",
            "2020-01-13 16:11:33,242 : INFO : EPOCH 8 - PROGRESS: at 72.59% examples, 111684 words/s, in_qsize 0, out_qsize 0\n",
            "2020-01-13 16:11:34,246 : INFO : EPOCH 8 - PROGRESS: at 81.46% examples, 111751 words/s, in_qsize 0, out_qsize 0\n",
            "2020-01-13 16:11:35,252 : INFO : EPOCH 8 - PROGRESS: at 90.40% examples, 111819 words/s, in_qsize 0, out_qsize 0\n",
            "2020-01-13 16:11:36,264 : INFO : EPOCH 8 - PROGRESS: at 99.31% examples, 111813 words/s, in_qsize 6, out_qsize 0\n",
            "2020-01-13 16:11:36,275 : INFO : worker thread finished; awaiting finish of 3 more threads\n",
            "2020-01-13 16:11:36,276 : INFO : worker thread finished; awaiting finish of 2 more threads\n",
            "2020-01-13 16:11:36,276 : INFO : worker thread finished; awaiting finish of 1 more threads\n",
            "2020-01-13 16:11:36,305 : INFO : worker thread finished; awaiting finish of 0 more threads\n",
            "2020-01-13 16:11:36,306 : INFO : EPOCH - 8 : training on 2907935 raw words (1265372 effective words) took 11.3s, 112172 effective words/s\n",
            "2020-01-13 16:11:37,314 : INFO : EPOCH 9 - PROGRESS: at 6.51% examples, 82611 words/s, in_qsize 0, out_qsize 0\n",
            "2020-01-13 16:11:38,322 : INFO : EPOCH 9 - PROGRESS: at 15.15% examples, 95315 words/s, in_qsize 0, out_qsize 0\n",
            "2020-01-13 16:11:39,339 : INFO : EPOCH 9 - PROGRESS: at 24.09% examples, 100538 words/s, in_qsize 0, out_qsize 0\n",
            "2020-01-13 16:11:40,362 : INFO : EPOCH 9 - PROGRESS: at 32.65% examples, 102010 words/s, in_qsize 1, out_qsize 0\n",
            "2020-01-13 16:11:41,363 : INFO : EPOCH 9 - PROGRESS: at 41.62% examples, 104191 words/s, in_qsize 0, out_qsize 0\n",
            "2020-01-13 16:11:42,399 : INFO : EPOCH 9 - PROGRESS: at 50.23% examples, 104338 words/s, in_qsize 0, out_qsize 0\n",
            "2020-01-13 16:11:43,457 : INFO : EPOCH 9 - PROGRESS: at 58.81% examples, 104103 words/s, in_qsize 0, out_qsize 1\n",
            "2020-01-13 16:11:44,471 : INFO : EPOCH 9 - PROGRESS: at 67.76% examples, 105029 words/s, in_qsize 0, out_qsize 0\n",
            "2020-01-13 16:11:45,506 : INFO : EPOCH 9 - PROGRESS: at 75.65% examples, 104101 words/s, in_qsize 0, out_qsize 1\n",
            "2020-01-13 16:11:46,531 : INFO : EPOCH 9 - PROGRESS: at 84.54% examples, 104716 words/s, in_qsize 0, out_qsize 0\n",
            "2020-01-13 16:11:47,563 : INFO : EPOCH 9 - PROGRESS: at 93.14% examples, 104780 words/s, in_qsize 0, out_qsize 0\n",
            "2020-01-13 16:11:48,312 : INFO : worker thread finished; awaiting finish of 3 more threads\n",
            "2020-01-13 16:11:48,313 : INFO : worker thread finished; awaiting finish of 2 more threads\n",
            "2020-01-13 16:11:48,314 : INFO : worker thread finished; awaiting finish of 1 more threads\n",
            "2020-01-13 16:11:48,343 : INFO : worker thread finished; awaiting finish of 0 more threads\n",
            "2020-01-13 16:11:48,344 : INFO : EPOCH - 9 : training on 2907935 raw words (1265753 effective words) took 12.0s, 105210 effective words/s\n",
            "2020-01-13 16:11:49,364 : INFO : EPOCH 10 - PROGRESS: at 8.24% examples, 103189 words/s, in_qsize 0, out_qsize 0\n",
            "2020-01-13 16:11:50,407 : INFO : EPOCH 10 - PROGRESS: at 17.18% examples, 105687 words/s, in_qsize 1, out_qsize 0\n",
            "2020-01-13 16:11:51,455 : INFO : EPOCH 10 - PROGRESS: at 26.50% examples, 107820 words/s, in_qsize 0, out_qsize 0\n",
            "2020-01-13 16:11:52,504 : INFO : EPOCH 10 - PROGRESS: at 33.35% examples, 101486 words/s, in_qsize 0, out_qsize 1\n",
            "2020-01-13 16:11:53,511 : INFO : EPOCH 10 - PROGRESS: at 42.65% examples, 104495 words/s, in_qsize 0, out_qsize 0\n",
            "2020-01-13 16:11:54,523 : INFO : EPOCH 10 - PROGRESS: at 51.28% examples, 104958 words/s, in_qsize 0, out_qsize 0\n",
            "2020-01-13 16:11:55,532 : INFO : EPOCH 10 - PROGRESS: at 60.18% examples, 105975 words/s, in_qsize 0, out_qsize 0\n",
            "2020-01-13 16:11:56,537 : INFO : EPOCH 10 - PROGRESS: at 68.80% examples, 106252 words/s, in_qsize 0, out_qsize 0\n",
            "2020-01-13 16:11:57,567 : INFO : EPOCH 10 - PROGRESS: at 78.03% examples, 107120 words/s, in_qsize 0, out_qsize 0\n",
            "2020-01-13 16:11:58,581 : INFO : EPOCH 10 - PROGRESS: at 86.96% examples, 107532 words/s, in_qsize 0, out_qsize 0\n",
            "2020-01-13 16:11:59,588 : INFO : EPOCH 10 - PROGRESS: at 96.24% examples, 108323 words/s, in_qsize 0, out_qsize 0\n",
            "2020-01-13 16:11:59,950 : INFO : worker thread finished; awaiting finish of 3 more threads\n",
            "2020-01-13 16:11:59,953 : INFO : worker thread finished; awaiting finish of 2 more threads\n",
            "2020-01-13 16:11:59,966 : INFO : worker thread finished; awaiting finish of 1 more threads\n",
            "2020-01-13 16:11:59,982 : INFO : worker thread finished; awaiting finish of 0 more threads\n",
            "2020-01-13 16:11:59,983 : INFO : EPOCH - 10 : training on 2907935 raw words (1265056 effective words) took 11.6s, 108762 effective words/s\n",
            "2020-01-13 16:12:01,008 : INFO : EPOCH 11 - PROGRESS: at 8.57% examples, 106966 words/s, in_qsize 0, out_qsize 0\n",
            "2020-01-13 16:12:02,029 : INFO : EPOCH 11 - PROGRESS: at 17.88% examples, 110879 words/s, in_qsize 0, out_qsize 0\n",
            "2020-01-13 16:12:03,043 : INFO : EPOCH 11 - PROGRESS: at 26.50% examples, 109660 words/s, in_qsize 0, out_qsize 0\n",
            "2020-01-13 16:12:04,058 : INFO : EPOCH 11 - PROGRESS: at 36.09% examples, 112216 words/s, in_qsize 0, out_qsize 0\n",
            "2020-01-13 16:12:05,092 : INFO : EPOCH 11 - PROGRESS: at 45.07% examples, 111578 words/s, in_qsize 0, out_qsize 0\n",
            "2020-01-13 16:12:06,115 : INFO : EPOCH 11 - PROGRESS: at 54.02% examples, 111451 words/s, in_qsize 0, out_qsize 0\n",
            "2020-01-13 16:12:07,158 : INFO : EPOCH 11 - PROGRESS: at 63.26% examples, 111655 words/s, in_qsize 0, out_qsize 0\n",
            "2020-01-13 16:12:08,183 : INFO : EPOCH 11 - PROGRESS: at 70.85% examples, 109353 words/s, in_qsize 1, out_qsize 0\n",
            "2020-01-13 16:12:09,199 : INFO : EPOCH 11 - PROGRESS: at 80.08% examples, 110010 words/s, in_qsize 1, out_qsize 0\n",
            "2020-01-13 16:12:10,209 : INFO : EPOCH 11 - PROGRESS: at 89.38% examples, 110625 words/s, in_qsize 0, out_qsize 0\n",
            "2020-01-13 16:12:11,238 : INFO : EPOCH 11 - PROGRESS: at 98.29% examples, 110551 words/s, in_qsize 0, out_qsize 0\n",
            "2020-01-13 16:12:11,368 : INFO : worker thread finished; awaiting finish of 3 more threads\n",
            "2020-01-13 16:12:11,369 : INFO : worker thread finished; awaiting finish of 2 more threads\n",
            "2020-01-13 16:12:11,375 : INFO : worker thread finished; awaiting finish of 1 more threads\n",
            "2020-01-13 16:12:11,406 : INFO : worker thread finished; awaiting finish of 0 more threads\n",
            "2020-01-13 16:12:11,407 : INFO : EPOCH - 11 : training on 2907935 raw words (1265249 effective words) took 11.4s, 110833 effective words/s\n",
            "2020-01-13 16:12:12,445 : INFO : EPOCH 12 - PROGRESS: at 8.57% examples, 105761 words/s, in_qsize 0, out_qsize 0\n",
            "2020-01-13 16:12:13,456 : INFO : EPOCH 12 - PROGRESS: at 17.53% examples, 108707 words/s, in_qsize 0, out_qsize 0\n",
            "2020-01-13 16:12:14,493 : INFO : EPOCH 12 - PROGRESS: at 26.86% examples, 110174 words/s, in_qsize 0, out_qsize 0\n",
            "2020-01-13 16:12:15,508 : INFO : EPOCH 12 - PROGRESS: at 35.75% examples, 110571 words/s, in_qsize 0, out_qsize 1\n",
            "2020-01-13 16:12:16,527 : INFO : EPOCH 12 - PROGRESS: at 45.07% examples, 111539 words/s, in_qsize 0, out_qsize 0\n",
            "2020-01-13 16:12:17,541 : INFO : EPOCH 12 - PROGRESS: at 54.02% examples, 111578 words/s, in_qsize 0, out_qsize 0\n",
            "2020-01-13 16:12:18,589 : INFO : EPOCH 12 - PROGRESS: at 62.93% examples, 111021 words/s, in_qsize 0, out_qsize 0\n",
            "2020-01-13 16:12:19,633 : INFO : EPOCH 12 - PROGRESS: at 72.59% examples, 111741 words/s, in_qsize 0, out_qsize 0\n",
            "2020-01-13 16:12:20,640 : INFO : EPOCH 12 - PROGRESS: at 81.46% examples, 111809 words/s, in_qsize 0, out_qsize 0\n",
            "2020-01-13 16:12:21,642 : INFO : EPOCH 12 - PROGRESS: at 90.40% examples, 111905 words/s, in_qsize 0, out_qsize 0\n",
            "2020-01-13 16:12:22,659 : INFO : EPOCH 12 - PROGRESS: at 97.95% examples, 110250 words/s, in_qsize 0, out_qsize 0\n",
            "2020-01-13 16:12:22,849 : INFO : worker thread finished; awaiting finish of 3 more threads\n",
            "2020-01-13 16:12:22,851 : INFO : worker thread finished; awaiting finish of 2 more threads\n",
            "2020-01-13 16:12:22,859 : INFO : worker thread finished; awaiting finish of 1 more threads\n",
            "2020-01-13 16:12:22,881 : INFO : worker thread finished; awaiting finish of 0 more threads\n",
            "2020-01-13 16:12:22,882 : INFO : EPOCH - 12 : training on 2907935 raw words (1265786 effective words) took 11.5s, 110407 effective words/s\n",
            "2020-01-13 16:12:23,918 : INFO : EPOCH 13 - PROGRESS: at 8.92% examples, 110342 words/s, in_qsize 0, out_qsize 0\n",
            "2020-01-13 16:12:24,931 : INFO : EPOCH 13 - PROGRESS: at 17.88% examples, 111112 words/s, in_qsize 0, out_qsize 0\n",
            "2020-01-13 16:12:25,946 : INFO : EPOCH 13 - PROGRESS: at 26.50% examples, 109687 words/s, in_qsize 1, out_qsize 0\n",
            "2020-01-13 16:12:26,982 : INFO : EPOCH 13 - PROGRESS: at 35.41% examples, 109608 words/s, in_qsize 0, out_qsize 0\n",
            "2020-01-13 16:12:28,002 : INFO : EPOCH 13 - PROGRESS: at 44.37% examples, 109845 words/s, in_qsize 0, out_qsize 0\n",
            "2020-01-13 16:12:29,019 : INFO : EPOCH 13 - PROGRESS: at 53.35% examples, 110071 words/s, in_qsize 0, out_qsize 0\n",
            "2020-01-13 16:12:30,051 : INFO : EPOCH 13 - PROGRESS: at 62.58% examples, 110624 words/s, in_qsize 0, out_qsize 0\n",
            "2020-01-13 16:12:31,065 : INFO : EPOCH 13 - PROGRESS: at 71.55% examples, 110720 words/s, in_qsize 0, out_qsize 0\n",
            "2020-01-13 16:12:32,093 : INFO : EPOCH 13 - PROGRESS: at 80.77% examples, 111105 words/s, in_qsize 0, out_qsize 0\n",
            "2020-01-13 16:12:33,104 : INFO : EPOCH 13 - PROGRESS: at 89.72% examples, 111177 words/s, in_qsize 0, out_qsize 0\n",
            "2020-01-13 16:12:34,114 : INFO : EPOCH 13 - PROGRESS: at 98.63% examples, 111221 words/s, in_qsize 0, out_qsize 0\n",
            "2020-01-13 16:12:34,208 : INFO : worker thread finished; awaiting finish of 3 more threads\n",
            "2020-01-13 16:12:34,213 : INFO : worker thread finished; awaiting finish of 2 more threads\n",
            "2020-01-13 16:12:34,223 : INFO : worker thread finished; awaiting finish of 1 more threads\n",
            "2020-01-13 16:12:34,240 : INFO : worker thread finished; awaiting finish of 0 more threads\n",
            "2020-01-13 16:12:34,241 : INFO : EPOCH - 13 : training on 2907935 raw words (1265814 effective words) took 11.4s, 111521 effective words/s\n",
            "2020-01-13 16:12:35,268 : INFO : EPOCH 14 - PROGRESS: at 8.57% examples, 106560 words/s, in_qsize 0, out_qsize 0\n",
            "2020-01-13 16:12:36,307 : INFO : EPOCH 14 - PROGRESS: at 17.88% examples, 109955 words/s, in_qsize 0, out_qsize 0\n",
            "2020-01-13 16:12:37,336 : INFO : EPOCH 14 - PROGRESS: at 25.48% examples, 104207 words/s, in_qsize 0, out_qsize 0\n",
            "2020-01-13 16:12:38,344 : INFO : EPOCH 14 - PROGRESS: at 34.38% examples, 106220 words/s, in_qsize 0, out_qsize 0\n",
            "2020-01-13 16:12:39,352 : INFO : EPOCH 14 - PROGRESS: at 43.35% examples, 107408 words/s, in_qsize 0, out_qsize 0\n",
            "2020-01-13 16:12:40,421 : INFO : EPOCH 14 - PROGRESS: at 52.66% examples, 107777 words/s, in_qsize 0, out_qsize 0\n",
            "2020-01-13 16:12:41,444 : INFO : EPOCH 14 - PROGRESS: at 62.24% examples, 109375 words/s, in_qsize 0, out_qsize 0\n",
            "2020-01-13 16:12:42,456 : INFO : EPOCH 14 - PROGRESS: at 70.85% examples, 109148 words/s, in_qsize 0, out_qsize 0\n",
            "2020-01-13 16:12:43,473 : INFO : EPOCH 14 - PROGRESS: at 80.08% examples, 109861 words/s, in_qsize 0, out_qsize 0\n",
            "2020-01-13 16:12:44,490 : INFO : EPOCH 14 - PROGRESS: at 89.04% examples, 109998 words/s, in_qsize 0, out_qsize 0\n",
            "2020-01-13 16:12:45,502 : INFO : EPOCH 14 - PROGRESS: at 97.95% examples, 110133 words/s, in_qsize 0, out_qsize 0\n",
            "2020-01-13 16:12:45,683 : INFO : worker thread finished; awaiting finish of 3 more threads\n",
            "2020-01-13 16:12:45,685 : INFO : worker thread finished; awaiting finish of 2 more threads\n",
            "2020-01-13 16:12:45,702 : INFO : worker thread finished; awaiting finish of 1 more threads\n",
            "2020-01-13 16:12:45,720 : INFO : worker thread finished; awaiting finish of 0 more threads\n",
            "2020-01-13 16:12:45,721 : INFO : EPOCH - 14 : training on 2907935 raw words (1265590 effective words) took 11.5s, 110314 effective words/s\n",
            "2020-01-13 16:12:46,742 : INFO : EPOCH 15 - PROGRESS: at 8.92% examples, 111446 words/s, in_qsize 0, out_qsize 0\n",
            "2020-01-13 16:12:47,762 : INFO : EPOCH 15 - PROGRESS: at 17.88% examples, 111110 words/s, in_qsize 0, out_qsize 0\n",
            "2020-01-13 16:12:48,805 : INFO : EPOCH 15 - PROGRESS: at 27.20% examples, 111591 words/s, in_qsize 0, out_qsize 0\n",
            "2020-01-13 16:12:49,831 : INFO : EPOCH 15 - PROGRESS: at 36.44% examples, 112325 words/s, in_qsize 0, out_qsize 0\n",
            "2020-01-13 16:12:50,865 : INFO : EPOCH 15 - PROGRESS: at 45.75% examples, 112579 words/s, in_qsize 0, out_qsize 0\n",
            "2020-01-13 16:12:51,909 : INFO : EPOCH 15 - PROGRESS: at 53.35% examples, 109034 words/s, in_qsize 0, out_qsize 0\n",
            "2020-01-13 16:12:52,919 : INFO : EPOCH 15 - PROGRESS: at 62.24% examples, 109429 words/s, in_qsize 0, out_qsize 0\n",
            "2020-01-13 16:12:53,949 : INFO : EPOCH 15 - PROGRESS: at 71.21% examples, 109426 words/s, in_qsize 0, out_qsize 0\n",
            "2020-01-13 16:12:54,964 : INFO : EPOCH 15 - PROGRESS: at 80.43% examples, 110129 words/s, in_qsize 0, out_qsize 0\n",
            "2020-01-13 16:12:55,984 : INFO : EPOCH 15 - PROGRESS: at 89.38% examples, 110187 words/s, in_qsize 0, out_qsize 0\n",
            "2020-01-13 16:12:56,987 : INFO : EPOCH 15 - PROGRESS: at 98.29% examples, 110401 words/s, in_qsize 0, out_qsize 0\n",
            "2020-01-13 16:12:57,123 : INFO : worker thread finished; awaiting finish of 3 more threads\n",
            "2020-01-13 16:12:57,126 : INFO : worker thread finished; awaiting finish of 2 more threads\n",
            "2020-01-13 16:12:57,128 : INFO : worker thread finished; awaiting finish of 1 more threads\n",
            "2020-01-13 16:12:57,155 : INFO : worker thread finished; awaiting finish of 0 more threads\n",
            "2020-01-13 16:12:57,156 : INFO : EPOCH - 15 : training on 2907935 raw words (1264672 effective words) took 11.4s, 110671 effective words/s\n",
            "2020-01-13 16:12:58,184 : INFO : EPOCH 16 - PROGRESS: at 8.92% examples, 110848 words/s, in_qsize 0, out_qsize 0\n",
            "2020-01-13 16:12:59,209 : INFO : EPOCH 16 - PROGRESS: at 17.88% examples, 110532 words/s, in_qsize 0, out_qsize 0\n",
            "2020-01-13 16:13:00,227 : INFO : EPOCH 16 - PROGRESS: at 26.86% examples, 110643 words/s, in_qsize 0, out_qsize 0\n",
            "2020-01-13 16:13:01,259 : INFO : EPOCH 16 - PROGRESS: at 36.09% examples, 111432 words/s, in_qsize 0, out_qsize 0\n",
            "2020-01-13 16:13:02,271 : INFO : EPOCH 16 - PROGRESS: at 45.40% examples, 112406 words/s, in_qsize 0, out_qsize 0\n",
            "2020-01-13 16:13:03,279 : INFO : EPOCH 16 - PROGRESS: at 54.37% examples, 112381 words/s, in_qsize 0, out_qsize 0\n",
            "2020-01-13 16:13:04,304 : INFO : EPOCH 16 - PROGRESS: at 63.26% examples, 112055 words/s, in_qsize 0, out_qsize 0\n",
            "2020-01-13 16:13:05,312 : INFO : EPOCH 16 - PROGRESS: at 71.90% examples, 111514 words/s, in_qsize 0, out_qsize 0\n",
            "2020-01-13 16:13:06,342 : INFO : EPOCH 16 - PROGRESS: at 79.40% examples, 109412 words/s, in_qsize 0, out_qsize 0\n",
            "2020-01-13 16:13:07,393 : INFO : EPOCH 16 - PROGRESS: at 88.35% examples, 109249 words/s, in_qsize 0, out_qsize 1\n",
            "2020-01-13 16:13:08,395 : INFO : EPOCH 16 - PROGRESS: at 97.62% examples, 109946 words/s, in_qsize 0, out_qsize 0\n",
            "2020-01-13 16:13:08,610 : INFO : worker thread finished; awaiting finish of 3 more threads\n",
            "2020-01-13 16:13:08,612 : INFO : worker thread finished; awaiting finish of 2 more threads\n",
            "2020-01-13 16:13:08,616 : INFO : worker thread finished; awaiting finish of 1 more threads\n",
            "2020-01-13 16:13:08,640 : INFO : worker thread finished; awaiting finish of 0 more threads\n",
            "2020-01-13 16:13:08,641 : INFO : EPOCH - 16 : training on 2907935 raw words (1265150 effective words) took 11.5s, 110231 effective words/s\n",
            "2020-01-13 16:13:09,649 : INFO : EPOCH 17 - PROGRESS: at 8.57% examples, 108808 words/s, in_qsize 0, out_qsize 0\n",
            "2020-01-13 16:13:10,675 : INFO : EPOCH 17 - PROGRESS: at 17.88% examples, 111814 words/s, in_qsize 1, out_qsize 0\n",
            "2020-01-13 16:13:11,698 : INFO : EPOCH 17 - PROGRESS: at 27.20% examples, 112745 words/s, in_qsize 0, out_qsize 0\n",
            "2020-01-13 16:13:12,701 : INFO : EPOCH 17 - PROGRESS: at 35.75% examples, 111697 words/s, in_qsize 1, out_qsize 0\n",
            "2020-01-13 16:13:13,706 : INFO : EPOCH 17 - PROGRESS: at 44.73% examples, 111893 words/s, in_qsize 0, out_qsize 0\n",
            "2020-01-13 16:13:14,709 : INFO : EPOCH 17 - PROGRESS: at 53.68% examples, 112022 words/s, in_qsize 0, out_qsize 0\n",
            "2020-01-13 16:13:15,724 : INFO : EPOCH 17 - PROGRESS: at 62.93% examples, 112568 words/s, in_qsize 0, out_qsize 0\n",
            "2020-01-13 16:13:16,740 : INFO : EPOCH 17 - PROGRESS: at 71.90% examples, 112422 words/s, in_qsize 0, out_qsize 0\n",
            "2020-01-13 16:13:17,759 : INFO : EPOCH 17 - PROGRESS: at 80.77% examples, 112263 words/s, in_qsize 0, out_qsize 0\n",
            "2020-01-13 16:13:18,781 : INFO : EPOCH 17 - PROGRESS: at 89.38% examples, 111689 words/s, in_qsize 0, out_qsize 0\n",
            "2020-01-13 16:13:19,801 : INFO : EPOCH 17 - PROGRESS: at 98.63% examples, 111976 words/s, in_qsize 0, out_qsize 0\n",
            "2020-01-13 16:13:19,899 : INFO : worker thread finished; awaiting finish of 3 more threads\n",
            "2020-01-13 16:13:19,901 : INFO : worker thread finished; awaiting finish of 2 more threads\n",
            "2020-01-13 16:13:19,908 : INFO : worker thread finished; awaiting finish of 1 more threads\n",
            "2020-01-13 16:13:19,930 : INFO : worker thread finished; awaiting finish of 0 more threads\n",
            "2020-01-13 16:13:19,931 : INFO : EPOCH - 17 : training on 2907935 raw words (1266255 effective words) took 11.3s, 112232 effective words/s\n",
            "2020-01-13 16:13:21,042 : INFO : EPOCH 18 - PROGRESS: at 7.89% examples, 90754 words/s, in_qsize 0, out_qsize 0\n",
            "2020-01-13 16:13:22,049 : INFO : EPOCH 18 - PROGRESS: at 16.51% examples, 98893 words/s, in_qsize 0, out_qsize 0\n",
            "2020-01-13 16:13:23,063 : INFO : EPOCH 18 - PROGRESS: at 25.48% examples, 102972 words/s, in_qsize 0, out_qsize 0\n",
            "2020-01-13 16:13:24,077 : INFO : EPOCH 18 - PROGRESS: at 34.04% examples, 103995 words/s, in_qsize 0, out_qsize 0\n",
            "2020-01-13 16:13:25,118 : INFO : EPOCH 18 - PROGRESS: at 43.35% examples, 105870 words/s, in_qsize 0, out_qsize 0\n",
            "2020-01-13 16:13:26,120 : INFO : EPOCH 18 - PROGRESS: at 51.98% examples, 106274 words/s, in_qsize 0, out_qsize 0\n",
            "2020-01-13 16:13:27,128 : INFO : EPOCH 18 - PROGRESS: at 60.88% examples, 107076 words/s, in_qsize 0, out_qsize 0\n",
            "2020-01-13 16:13:28,139 : INFO : EPOCH 18 - PROGRESS: at 69.14% examples, 106613 words/s, in_qsize 1, out_qsize 0\n",
            "2020-01-13 16:13:29,169 : INFO : EPOCH 18 - PROGRESS: at 78.71% examples, 107915 words/s, in_qsize 0, out_qsize 0\n",
            "2020-01-13 16:13:30,187 : INFO : EPOCH 18 - PROGRESS: at 88.35% examples, 109075 words/s, in_qsize 0, out_qsize 0\n",
            "2020-01-13 16:13:31,206 : INFO : EPOCH 18 - PROGRESS: at 98.29% examples, 110378 words/s, in_qsize 0, out_qsize 0\n",
            "2020-01-13 16:13:31,354 : INFO : worker thread finished; awaiting finish of 3 more threads\n",
            "2020-01-13 16:13:31,356 : INFO : worker thread finished; awaiting finish of 2 more threads\n",
            "2020-01-13 16:13:31,356 : INFO : worker thread finished; awaiting finish of 1 more threads\n",
            "2020-01-13 16:13:31,382 : INFO : worker thread finished; awaiting finish of 0 more threads\n",
            "2020-01-13 16:13:31,383 : INFO : EPOCH - 18 : training on 2907935 raw words (1265657 effective words) took 11.4s, 110594 effective words/s\n",
            "2020-01-13 16:13:32,391 : INFO : EPOCH 19 - PROGRESS: at 8.92% examples, 113021 words/s, in_qsize 0, out_qsize 0\n",
            "2020-01-13 16:13:33,393 : INFO : EPOCH 19 - PROGRESS: at 18.21% examples, 115067 words/s, in_qsize 0, out_qsize 0\n",
            "2020-01-13 16:13:34,398 : INFO : EPOCH 19 - PROGRESS: at 27.54% examples, 115703 words/s, in_qsize 0, out_qsize 0\n",
            "2020-01-13 16:13:35,418 : INFO : EPOCH 19 - PROGRESS: at 37.14% examples, 116677 words/s, in_qsize 0, out_qsize 0\n",
            "2020-01-13 16:13:36,564 : INFO : EPOCH 19 - PROGRESS: at 46.08% examples, 112644 words/s, in_qsize 0, out_qsize 0\n",
            "2020-01-13 16:13:37,566 : INFO : EPOCH 19 - PROGRESS: at 55.39% examples, 113355 words/s, in_qsize 0, out_qsize 0\n",
            "2020-01-13 16:13:38,595 : INFO : EPOCH 19 - PROGRESS: at 65.00% examples, 114074 words/s, in_qsize 0, out_qsize 0\n",
            "2020-01-13 16:13:39,622 : INFO : EPOCH 19 - PROGRESS: at 74.64% examples, 114645 words/s, in_qsize 0, out_qsize 0\n",
            "2020-01-13 16:13:40,651 : INFO : EPOCH 19 - PROGRESS: at 83.86% examples, 114589 words/s, in_qsize 0, out_qsize 0\n",
            "2020-01-13 16:13:41,659 : INFO : EPOCH 19 - PROGRESS: at 93.48% examples, 115209 words/s, in_qsize 0, out_qsize 0\n",
            "2020-01-13 16:13:42,352 : INFO : worker thread finished; awaiting finish of 3 more threads\n",
            "2020-01-13 16:13:42,357 : INFO : worker thread finished; awaiting finish of 2 more threads\n",
            "2020-01-13 16:13:42,358 : INFO : worker thread finished; awaiting finish of 1 more threads\n",
            "2020-01-13 16:13:42,383 : INFO : worker thread finished; awaiting finish of 0 more threads\n",
            "2020-01-13 16:13:42,384 : INFO : EPOCH - 19 : training on 2907935 raw words (1265562 effective words) took 11.0s, 115119 effective words/s\n",
            "2020-01-13 16:13:43,416 : INFO : EPOCH 20 - PROGRESS: at 9.27% examples, 114470 words/s, in_qsize 1, out_qsize 0\n",
            "2020-01-13 16:13:44,433 : INFO : EPOCH 20 - PROGRESS: at 18.56% examples, 114873 words/s, in_qsize 0, out_qsize 0\n",
            "2020-01-13 16:13:45,465 : INFO : EPOCH 20 - PROGRESS: at 28.21% examples, 115874 words/s, in_qsize 0, out_qsize 0\n",
            "2020-01-13 16:13:46,472 : INFO : EPOCH 20 - PROGRESS: at 37.49% examples, 116095 words/s, in_qsize 0, out_qsize 0\n",
            "2020-01-13 16:13:47,500 : INFO : EPOCH 20 - PROGRESS: at 47.45% examples, 117367 words/s, in_qsize 0, out_qsize 0\n",
            "2020-01-13 16:13:48,544 : INFO : EPOCH 20 - PROGRESS: at 57.10% examples, 117265 words/s, in_qsize 0, out_qsize 0\n",
            "2020-01-13 16:13:49,569 : INFO : EPOCH 20 - PROGRESS: at 66.71% examples, 117510 words/s, in_qsize 0, out_qsize 0\n",
            "2020-01-13 16:13:50,758 : INFO : EPOCH 20 - PROGRESS: at 75.65% examples, 114303 words/s, in_qsize 0, out_qsize 0\n",
            "2020-01-13 16:13:51,787 : INFO : EPOCH 20 - PROGRESS: at 84.88% examples, 114270 words/s, in_qsize 0, out_qsize 0\n",
            "2020-01-13 16:13:52,794 : INFO : EPOCH 20 - PROGRESS: at 94.18% examples, 114514 words/s, in_qsize 0, out_qsize 0\n",
            "2020-01-13 16:13:53,382 : INFO : worker thread finished; awaiting finish of 3 more threads\n",
            "2020-01-13 16:13:53,384 : INFO : worker thread finished; awaiting finish of 2 more threads\n",
            "2020-01-13 16:13:53,392 : INFO : worker thread finished; awaiting finish of 1 more threads\n",
            "2020-01-13 16:13:53,413 : INFO : worker thread finished; awaiting finish of 0 more threads\n",
            "2020-01-13 16:13:53,413 : INFO : EPOCH - 20 : training on 2907935 raw words (1265367 effective words) took 11.0s, 114795 effective words/s\n",
            "2020-01-13 16:13:54,421 : INFO : EPOCH 21 - PROGRESS: at 8.92% examples, 112897 words/s, in_qsize 0, out_qsize 0\n",
            "2020-01-13 16:13:55,439 : INFO : EPOCH 21 - PROGRESS: at 18.21% examples, 114281 words/s, in_qsize 0, out_qsize 0\n",
            "2020-01-13 16:13:56,467 : INFO : EPOCH 21 - PROGRESS: at 27.54% examples, 114252 words/s, in_qsize 0, out_qsize 0\n",
            "2020-01-13 16:13:57,519 : INFO : EPOCH 21 - PROGRESS: at 37.14% examples, 114640 words/s, in_qsize 0, out_qsize 0\n",
            "2020-01-13 16:13:58,525 : INFO : EPOCH 21 - PROGRESS: at 46.77% examples, 115817 words/s, in_qsize 0, out_qsize 0\n",
            "2020-01-13 16:13:59,541 : INFO : EPOCH 21 - PROGRESS: at 56.42% examples, 116479 words/s, in_qsize 0, out_qsize 0\n",
            "2020-01-13 16:14:00,595 : INFO : EPOCH 21 - PROGRESS: at 65.68% examples, 115751 words/s, in_qsize 1, out_qsize 0\n",
            "2020-01-13 16:14:01,617 : INFO : EPOCH 21 - PROGRESS: at 75.32% examples, 116190 words/s, in_qsize 0, out_qsize 0\n",
            "2020-01-13 16:14:02,643 : INFO : EPOCH 21 - PROGRESS: at 84.88% examples, 116485 words/s, in_qsize 0, out_qsize 0\n",
            "2020-01-13 16:14:03,646 : INFO : EPOCH 21 - PROGRESS: at 94.18% examples, 116547 words/s, in_qsize 0, out_qsize 0\n",
            "2020-01-13 16:14:04,241 : INFO : worker thread finished; awaiting finish of 3 more threads\n",
            "2020-01-13 16:14:04,245 : INFO : worker thread finished; awaiting finish of 2 more threads\n",
            "2020-01-13 16:14:04,245 : INFO : worker thread finished; awaiting finish of 1 more threads\n",
            "2020-01-13 16:14:04,280 : INFO : worker thread finished; awaiting finish of 0 more threads\n",
            "2020-01-13 16:14:04,281 : INFO : EPOCH - 21 : training on 2907935 raw words (1265493 effective words) took 10.9s, 116527 effective words/s\n",
            "2020-01-13 16:14:05,320 : INFO : EPOCH 22 - PROGRESS: at 7.53% examples, 92633 words/s, in_qsize 0, out_qsize 0\n",
            "2020-01-13 16:14:06,338 : INFO : EPOCH 22 - PROGRESS: at 16.85% examples, 103792 words/s, in_qsize 0, out_qsize 0\n",
            "2020-01-13 16:14:07,355 : INFO : EPOCH 22 - PROGRESS: at 26.50% examples, 108986 words/s, in_qsize 1, out_qsize 0\n",
            "2020-01-13 16:14:08,373 : INFO : EPOCH 22 - PROGRESS: at 36.09% examples, 111662 words/s, in_qsize 0, out_qsize 0\n",
            "2020-01-13 16:14:09,412 : INFO : EPOCH 22 - PROGRESS: at 45.40% examples, 111922 words/s, in_qsize 0, out_qsize 0\n",
            "2020-01-13 16:14:10,441 : INFO : EPOCH 22 - PROGRESS: at 55.06% examples, 112977 words/s, in_qsize 0, out_qsize 0\n",
            "2020-01-13 16:14:11,448 : INFO : EPOCH 22 - PROGRESS: at 64.66% examples, 114087 words/s, in_qsize 0, out_qsize 0\n",
            "2020-01-13 16:14:12,467 : INFO : EPOCH 22 - PROGRESS: at 73.95% examples, 114304 words/s, in_qsize 0, out_qsize 0\n",
            "2020-01-13 16:14:13,505 : INFO : EPOCH 22 - PROGRESS: at 83.52% examples, 114612 words/s, in_qsize 0, out_qsize 0\n",
            "2020-01-13 16:14:14,539 : INFO : EPOCH 22 - PROGRESS: at 93.14% examples, 114917 words/s, in_qsize 0, out_qsize 0\n",
            "2020-01-13 16:14:15,220 : INFO : worker thread finished; awaiting finish of 3 more threads\n",
            "2020-01-13 16:14:15,223 : INFO : worker thread finished; awaiting finish of 2 more threads\n",
            "2020-01-13 16:14:15,231 : INFO : worker thread finished; awaiting finish of 1 more threads\n",
            "2020-01-13 16:14:15,250 : INFO : worker thread finished; awaiting finish of 0 more threads\n",
            "2020-01-13 16:14:15,251 : INFO : EPOCH - 22 : training on 2907935 raw words (1264920 effective words) took 11.0s, 115376 effective words/s\n",
            "2020-01-13 16:14:16,274 : INFO : EPOCH 23 - PROGRESS: at 9.27% examples, 115581 words/s, in_qsize 0, out_qsize 0\n",
            "2020-01-13 16:14:17,306 : INFO : EPOCH 23 - PROGRESS: at 18.91% examples, 116754 words/s, in_qsize 0, out_qsize 0\n",
            "2020-01-13 16:14:18,343 : INFO : EPOCH 23 - PROGRESS: at 28.55% examples, 117054 words/s, in_qsize 0, out_qsize 0\n",
            "2020-01-13 16:14:19,443 : INFO : EPOCH 23 - PROGRESS: at 37.49% examples, 113299 words/s, in_qsize 0, out_qsize 0\n",
            "2020-01-13 16:14:20,450 : INFO : EPOCH 23 - PROGRESS: at 46.42% examples, 113047 words/s, in_qsize 0, out_qsize 0\n",
            "2020-01-13 16:14:21,485 : INFO : EPOCH 23 - PROGRESS: at 56.07% examples, 113799 words/s, in_qsize 0, out_qsize 0\n",
            "2020-01-13 16:14:22,488 : INFO : EPOCH 23 - PROGRESS: at 65.68% examples, 114843 words/s, in_qsize 0, out_qsize 0\n",
            "2020-01-13 16:14:23,521 : INFO : EPOCH 23 - PROGRESS: at 75.32% examples, 115231 words/s, in_qsize 0, out_qsize 0\n",
            "2020-01-13 16:14:24,555 : INFO : EPOCH 23 - PROGRESS: at 84.54% examples, 115050 words/s, in_qsize 0, out_qsize 0\n",
            "2020-01-13 16:14:25,568 : INFO : EPOCH 23 - PROGRESS: at 93.83% examples, 115161 words/s, in_qsize 0, out_qsize 0\n",
            "2020-01-13 16:14:26,194 : INFO : worker thread finished; awaiting finish of 3 more threads\n",
            "2020-01-13 16:14:26,196 : INFO : worker thread finished; awaiting finish of 2 more threads\n",
            "2020-01-13 16:14:26,212 : INFO : worker thread finished; awaiting finish of 1 more threads\n",
            "2020-01-13 16:14:26,227 : INFO : worker thread finished; awaiting finish of 0 more threads\n",
            "2020-01-13 16:14:26,227 : INFO : EPOCH - 23 : training on 2907935 raw words (1265628 effective words) took 11.0s, 115372 effective words/s\n",
            "2020-01-13 16:14:27,259 : INFO : EPOCH 24 - PROGRESS: at 9.27% examples, 114698 words/s, in_qsize 0, out_qsize 0\n",
            "2020-01-13 16:14:28,296 : INFO : EPOCH 24 - PROGRESS: at 18.91% examples, 116092 words/s, in_qsize 0, out_qsize 0\n",
            "2020-01-13 16:14:29,336 : INFO : EPOCH 24 - PROGRESS: at 28.55% examples, 116441 words/s, in_qsize 0, out_qsize 0\n",
            "2020-01-13 16:14:30,350 : INFO : EPOCH 24 - PROGRESS: at 38.53% examples, 118434 words/s, in_qsize 0, out_qsize 0\n",
            "2020-01-13 16:14:31,379 : INFO : EPOCH 24 - PROGRESS: at 48.15% examples, 118397 words/s, in_qsize 0, out_qsize 0\n",
            "2020-01-13 16:14:32,406 : INFO : EPOCH 24 - PROGRESS: at 58.14% examples, 119149 words/s, in_qsize 0, out_qsize 0\n",
            "2020-01-13 16:14:33,431 : INFO : EPOCH 24 - PROGRESS: at 66.37% examples, 116670 words/s, in_qsize 0, out_qsize 0\n",
            "2020-01-13 16:14:34,441 : INFO : EPOCH 24 - PROGRESS: at 74.97% examples, 115534 words/s, in_qsize 0, out_qsize 0\n",
            "2020-01-13 16:14:35,449 : INFO : EPOCH 24 - PROGRESS: at 84.20% examples, 115612 words/s, in_qsize 0, out_qsize 0\n",
            "2020-01-13 16:14:36,465 : INFO : EPOCH 24 - PROGRESS: at 93.48% examples, 115624 words/s, in_qsize 0, out_qsize 0\n",
            "2020-01-13 16:14:37,118 : INFO : worker thread finished; awaiting finish of 3 more threads\n",
            "2020-01-13 16:14:37,121 : INFO : worker thread finished; awaiting finish of 2 more threads\n",
            "2020-01-13 16:14:37,122 : INFO : worker thread finished; awaiting finish of 1 more threads\n",
            "2020-01-13 16:14:37,146 : INFO : worker thread finished; awaiting finish of 0 more threads\n",
            "2020-01-13 16:14:37,147 : INFO : EPOCH - 24 : training on 2907935 raw words (1265211 effective words) took 10.9s, 115957 effective words/s\n",
            "2020-01-13 16:14:38,182 : INFO : EPOCH 25 - PROGRESS: at 9.27% examples, 114251 words/s, in_qsize 0, out_qsize 0\n",
            "2020-01-13 16:14:39,199 : INFO : EPOCH 25 - PROGRESS: at 18.56% examples, 114767 words/s, in_qsize 1, out_qsize 0\n",
            "2020-01-13 16:14:40,207 : INFO : EPOCH 25 - PROGRESS: at 27.88% examples, 115406 words/s, in_qsize 0, out_qsize 0\n",
            "2020-01-13 16:14:41,228 : INFO : EPOCH 25 - PROGRESS: at 37.49% examples, 116405 words/s, in_qsize 0, out_qsize 0\n",
            "2020-01-13 16:14:42,258 : INFO : EPOCH 25 - PROGRESS: at 46.42% examples, 115038 words/s, in_qsize 0, out_qsize 0\n",
            "2020-01-13 16:14:43,289 : INFO : EPOCH 25 - PROGRESS: at 56.07% examples, 115535 words/s, in_qsize 0, out_qsize 0\n",
            "2020-01-13 16:14:44,333 : INFO : EPOCH 25 - PROGRESS: at 65.33% examples, 115089 words/s, in_qsize 0, out_qsize 0\n",
            "2020-01-13 16:14:45,352 : INFO : EPOCH 25 - PROGRESS: at 74.97% examples, 115646 words/s, in_qsize 0, out_qsize 0\n",
            "2020-01-13 16:14:46,379 : INFO : EPOCH 25 - PROGRESS: at 84.20% examples, 115496 words/s, in_qsize 0, out_qsize 0\n",
            "2020-01-13 16:14:47,408 : INFO : EPOCH 25 - PROGRESS: at 91.78% examples, 113257 words/s, in_qsize 0, out_qsize 0\n",
            "2020-01-13 16:14:48,248 : INFO : worker thread finished; awaiting finish of 3 more threads\n",
            "2020-01-13 16:14:48,251 : INFO : worker thread finished; awaiting finish of 2 more threads\n",
            "2020-01-13 16:14:48,252 : INFO : worker thread finished; awaiting finish of 1 more threads\n",
            "2020-01-13 16:14:48,277 : INFO : worker thread finished; awaiting finish of 0 more threads\n",
            "2020-01-13 16:14:48,278 : INFO : EPOCH - 25 : training on 2907935 raw words (1265624 effective words) took 11.1s, 113777 effective words/s\n",
            "2020-01-13 16:14:49,299 : INFO : EPOCH 26 - PROGRESS: at 9.27% examples, 115795 words/s, in_qsize 1, out_qsize 0\n",
            "2020-01-13 16:14:50,340 : INFO : EPOCH 26 - PROGRESS: at 18.91% examples, 116430 words/s, in_qsize 0, out_qsize 0\n",
            "2020-01-13 16:14:51,353 : INFO : EPOCH 26 - PROGRESS: at 28.55% examples, 117687 words/s, in_qsize 0, out_qsize 0\n",
            "2020-01-13 16:14:52,379 : INFO : EPOCH 26 - PROGRESS: at 37.84% examples, 116887 words/s, in_qsize 0, out_qsize 0\n",
            "2020-01-13 16:14:53,389 : INFO : EPOCH 26 - PROGRESS: at 47.11% examples, 116732 words/s, in_qsize 0, out_qsize 0\n",
            "2020-01-13 16:14:54,422 : INFO : EPOCH 26 - PROGRESS: at 56.76% examples, 116968 words/s, in_qsize 0, out_qsize 0\n",
            "2020-01-13 16:14:55,441 : INFO : EPOCH 26 - PROGRESS: at 66.02% examples, 116696 words/s, in_qsize 0, out_qsize 0\n",
            "2020-01-13 16:14:56,442 : INFO : EPOCH 26 - PROGRESS: at 75.65% examples, 117325 words/s, in_qsize 0, out_qsize 0\n",
            "2020-01-13 16:14:57,473 : INFO : EPOCH 26 - PROGRESS: at 85.23% examples, 117389 words/s, in_qsize 0, out_qsize 0\n",
            "2020-01-13 16:14:58,506 : INFO : EPOCH 26 - PROGRESS: at 94.86% examples, 117453 words/s, in_qsize 0, out_qsize 0\n",
            "2020-01-13 16:14:59,005 : INFO : worker thread finished; awaiting finish of 3 more threads\n",
            "2020-01-13 16:14:59,007 : INFO : worker thread finished; awaiting finish of 2 more threads\n",
            "2020-01-13 16:14:59,008 : INFO : worker thread finished; awaiting finish of 1 more threads\n",
            "2020-01-13 16:14:59,033 : INFO : worker thread finished; awaiting finish of 0 more threads\n",
            "2020-01-13 16:14:59,033 : INFO : EPOCH - 26 : training on 2907935 raw words (1265849 effective words) took 10.7s, 117776 effective words/s\n",
            "2020-01-13 16:15:00,055 : INFO : EPOCH 27 - PROGRESS: at 9.62% examples, 119669 words/s, in_qsize 0, out_qsize 0\n",
            "2020-01-13 16:15:01,090 : INFO : EPOCH 27 - PROGRESS: at 19.26% examples, 118676 words/s, in_qsize 0, out_qsize 0\n",
            "2020-01-13 16:15:02,098 : INFO : EPOCH 27 - PROGRESS: at 27.20% examples, 112354 words/s, in_qsize 0, out_qsize 0\n",
            "2020-01-13 16:15:03,124 : INFO : EPOCH 27 - PROGRESS: at 36.79% examples, 113922 words/s, in_qsize 0, out_qsize 0\n",
            "2020-01-13 16:15:04,133 : INFO : EPOCH 27 - PROGRESS: at 46.08% examples, 114359 words/s, in_qsize 0, out_qsize 0\n",
            "2020-01-13 16:15:05,158 : INFO : EPOCH 27 - PROGRESS: at 55.39% examples, 114432 words/s, in_qsize 0, out_qsize 0\n",
            "2020-01-13 16:15:06,166 : INFO : EPOCH 27 - PROGRESS: at 64.66% examples, 114704 words/s, in_qsize 0, out_qsize 0\n",
            "2020-01-13 16:15:07,166 : INFO : EPOCH 27 - PROGRESS: at 74.29% examples, 115551 words/s, in_qsize 0, out_qsize 0\n",
            "2020-01-13 16:15:08,192 : INFO : EPOCH 27 - PROGRESS: at 83.86% examples, 115896 words/s, in_qsize 0, out_qsize 0\n",
            "2020-01-13 16:15:09,206 : INFO : EPOCH 27 - PROGRESS: at 93.48% examples, 116346 words/s, in_qsize 0, out_qsize 0\n",
            "2020-01-13 16:15:09,819 : INFO : worker thread finished; awaiting finish of 3 more threads\n",
            "2020-01-13 16:15:09,821 : INFO : worker thread finished; awaiting finish of 2 more threads\n",
            "2020-01-13 16:15:09,822 : INFO : worker thread finished; awaiting finish of 1 more threads\n",
            "2020-01-13 16:15:09,851 : INFO : worker thread finished; awaiting finish of 0 more threads\n",
            "2020-01-13 16:15:09,851 : INFO : EPOCH - 27 : training on 2907935 raw words (1265090 effective words) took 10.8s, 117016 effective words/s\n",
            "2020-01-13 16:15:10,870 : INFO : EPOCH 28 - PROGRESS: at 9.27% examples, 116126 words/s, in_qsize 0, out_qsize 0\n",
            "2020-01-13 16:15:11,893 : INFO : EPOCH 28 - PROGRESS: at 19.26% examples, 119769 words/s, in_qsize 0, out_qsize 0\n",
            "2020-01-13 16:15:12,923 : INFO : EPOCH 28 - PROGRESS: at 28.90% examples, 119195 words/s, in_qsize 0, out_qsize 0\n",
            "2020-01-13 16:15:13,956 : INFO : EPOCH 28 - PROGRESS: at 38.53% examples, 118947 words/s, in_qsize 0, out_qsize 0\n",
            "2020-01-13 16:15:14,994 : INFO : EPOCH 28 - PROGRESS: at 48.15% examples, 118601 words/s, in_qsize 0, out_qsize 0\n",
            "2020-01-13 16:15:16,027 : INFO : EPOCH 28 - PROGRESS: at 56.07% examples, 114932 words/s, in_qsize 0, out_qsize 0\n",
            "2020-01-13 16:15:17,047 : INFO : EPOCH 28 - PROGRESS: at 65.68% examples, 115575 words/s, in_qsize 0, out_qsize 0\n",
            "2020-01-13 16:15:18,067 : INFO : EPOCH 28 - PROGRESS: at 74.97% examples, 115502 words/s, in_qsize 0, out_qsize 0\n",
            "2020-01-13 16:15:19,068 : INFO : EPOCH 28 - PROGRESS: at 84.54% examples, 116139 words/s, in_qsize 0, out_qsize 0\n",
            "2020-01-13 16:15:20,077 : INFO : EPOCH 28 - PROGRESS: at 93.83% examples, 116178 words/s, in_qsize 0, out_qsize 0\n",
            "2020-01-13 16:15:20,696 : INFO : worker thread finished; awaiting finish of 3 more threads\n",
            "2020-01-13 16:15:20,699 : INFO : worker thread finished; awaiting finish of 2 more threads\n",
            "2020-01-13 16:15:20,714 : INFO : worker thread finished; awaiting finish of 1 more threads\n",
            "2020-01-13 16:15:20,726 : INFO : worker thread finished; awaiting finish of 0 more threads\n",
            "2020-01-13 16:15:20,727 : INFO : EPOCH - 28 : training on 2907935 raw words (1265349 effective words) took 10.9s, 116428 effective words/s\n",
            "2020-01-13 16:15:21,782 : INFO : EPOCH 29 - PROGRESS: at 9.27% examples, 112161 words/s, in_qsize 0, out_qsize 0\n",
            "2020-01-13 16:15:22,800 : INFO : EPOCH 29 - PROGRESS: at 18.91% examples, 115740 words/s, in_qsize 0, out_qsize 0\n",
            "2020-01-13 16:15:23,808 : INFO : EPOCH 29 - PROGRESS: at 28.21% examples, 115920 words/s, in_qsize 0, out_qsize 0\n",
            "2020-01-13 16:15:24,810 : INFO : EPOCH 29 - PROGRESS: at 37.49% examples, 116317 words/s, in_qsize 0, out_qsize 0\n",
            "2020-01-13 16:15:25,835 : INFO : EPOCH 29 - PROGRESS: at 46.77% examples, 115959 words/s, in_qsize 0, out_qsize 0\n",
            "2020-01-13 16:15:26,851 : INFO : EPOCH 29 - PROGRESS: at 56.07% examples, 115982 words/s, in_qsize 0, out_qsize 0\n",
            "2020-01-13 16:15:27,867 : INFO : EPOCH 29 - PROGRESS: at 65.68% examples, 116535 words/s, in_qsize 0, out_qsize 0\n",
            "2020-01-13 16:15:28,897 : INFO : EPOCH 29 - PROGRESS: at 75.65% examples, 117300 words/s, in_qsize 0, out_qsize 0\n",
            "2020-01-13 16:15:29,908 : INFO : EPOCH 29 - PROGRESS: at 83.52% examples, 115240 words/s, in_qsize 0, out_qsize 0\n",
            "2020-01-13 16:15:30,909 : INFO : EPOCH 29 - PROGRESS: at 92.80% examples, 115447 words/s, in_qsize 0, out_qsize 0\n",
            "2020-01-13 16:15:31,647 : INFO : worker thread finished; awaiting finish of 3 more threads\n",
            "2020-01-13 16:15:31,649 : INFO : worker thread finished; awaiting finish of 2 more threads\n",
            "2020-01-13 16:15:31,652 : INFO : worker thread finished; awaiting finish of 1 more threads\n",
            "2020-01-13 16:15:31,676 : INFO : worker thread finished; awaiting finish of 0 more threads\n",
            "2020-01-13 16:15:31,677 : INFO : EPOCH - 29 : training on 2907935 raw words (1266089 effective words) took 10.9s, 115706 effective words/s\n",
            "2020-01-13 16:15:32,725 : INFO : EPOCH 30 - PROGRESS: at 9.27% examples, 112675 words/s, in_qsize 0, out_qsize 0\n",
            "2020-01-13 16:15:33,735 : INFO : EPOCH 30 - PROGRESS: at 18.91% examples, 116561 words/s, in_qsize 0, out_qsize 0\n",
            "2020-01-13 16:15:34,744 : INFO : EPOCH 30 - PROGRESS: at 27.88% examples, 115048 words/s, in_qsize 0, out_qsize 0\n",
            "2020-01-13 16:15:35,757 : INFO : EPOCH 30 - PROGRESS: at 37.49% examples, 116315 words/s, in_qsize 1, out_qsize 0\n",
            "2020-01-13 16:15:36,793 : INFO : EPOCH 30 - PROGRESS: at 47.45% examples, 117364 words/s, in_qsize 0, out_qsize 0\n",
            "2020-01-13 16:15:37,806 : INFO : EPOCH 30 - PROGRESS: at 56.76% examples, 117134 words/s, in_qsize 0, out_qsize 0\n",
            "2020-01-13 16:15:38,831 : INFO : EPOCH 30 - PROGRESS: at 66.37% examples, 117363 words/s, in_qsize 0, out_qsize 0\n",
            "2020-01-13 16:15:39,868 : INFO : EPOCH 30 - PROGRESS: at 75.99% examples, 117360 words/s, in_qsize 0, out_qsize 0\n",
            "2020-01-13 16:15:40,891 : INFO : EPOCH 30 - PROGRESS: at 85.58% examples, 117541 words/s, in_qsize 0, out_qsize 0\n",
            "2020-01-13 16:15:41,903 : INFO : EPOCH 30 - PROGRESS: at 94.86% examples, 117372 words/s, in_qsize 0, out_qsize 0\n",
            "2020-01-13 16:15:42,414 : INFO : worker thread finished; awaiting finish of 3 more threads\n",
            "2020-01-13 16:15:42,415 : INFO : worker thread finished; awaiting finish of 2 more threads\n",
            "2020-01-13 16:15:42,433 : INFO : worker thread finished; awaiting finish of 1 more threads\n",
            "2020-01-13 16:15:42,445 : INFO : worker thread finished; awaiting finish of 0 more threads\n",
            "2020-01-13 16:15:42,446 : INFO : EPOCH - 30 : training on 2907935 raw words (1264731 effective words) took 10.8s, 117515 effective words/s\n",
            "2020-01-13 16:15:42,447 : INFO : training on a 87238050 raw words (37964648 effective words) took 338.0s, 112313 effective words/s\n"
          ],
          "name": "stderr"
        },
        {
          "output_type": "execute_result",
          "data": {
            "text/plain": [
              "(37964648, 87238050)"
            ]
          },
          "metadata": {
            "tags": []
          },
          "execution_count": 20
        }
      ]
    },
    {
      "cell_type": "code",
      "metadata": {
        "id": "sM_fyj5Xk150",
        "colab_type": "code",
        "outputId": "c3d345d5-4cca-4e15-adbb-bac6a142c2bc",
        "colab": {
          "base_uri": "https://localhost:8080/",
          "height": 249
        }
      },
      "source": [
        "model.wv.most_similar(\"फेसबुक\")"
      ],
      "execution_count": 0,
      "outputs": [
        {
          "output_type": "stream",
          "text": [
            "/usr/local/lib/python3.6/dist-packages/gensim/matutils.py:737: FutureWarning: Conversion of the second argument of issubdtype from `int` to `np.signedinteger` is deprecated. In future, it will be treated as `np.int64 == np.dtype(int).type`.\n",
            "  if np.issubdtype(vec.dtype, np.int):\n"
          ],
          "name": "stderr"
        },
        {
          "output_type": "execute_result",
          "data": {
            "text/plain": [
              "[('पेजमा', 0.903080940246582),\n",
              " ('ट्वीटर', 0.9025284647941589),\n",
              " ('इन्स्टाग्राम', 0.891636073589325),\n",
              " ('फेक', 0.8820791244506836),\n",
              " ('इन्स्टाग्राममा', 0.8579950332641602),\n",
              " ('एपमा', 0.8493818044662476),\n",
              " ('सामाजिक_सञ्जाल', 0.8486107587814331),\n",
              " ('च्याट', 0.8445096611976624),\n",
              " ('भाइबर', 0.842392086982727),\n",
              " ('प्रयोगकर्ताले', 0.8405086994171143)]"
            ]
          },
          "metadata": {
            "tags": []
          },
          "execution_count": 24
        }
      ]
    },
    {
      "cell_type": "code",
      "metadata": {
        "id": "g5DIvKpj3z0t",
        "colab_type": "code",
        "outputId": "46f85306-2e53-4376-871c-ed3c84cd1259",
        "colab": {
          "base_uri": "https://localhost:8080/",
          "height": 125
        }
      },
      "source": [
        "model.wv.most_similar(positive=[\"राजा\", \"पुरुष\"], negative=[\"रानी\"], topn=3)"
      ],
      "execution_count": 0,
      "outputs": [
        {
          "output_type": "stream",
          "text": [
            "/usr/local/lib/python3.6/dist-packages/gensim/matutils.py:737: FutureWarning: Conversion of the second argument of issubdtype from `int` to `np.signedinteger` is deprecated. In future, it will be treated as `np.int64 == np.dtype(int).type`.\n",
            "  if np.issubdtype(vec.dtype, np.int):\n"
          ],
          "name": "stderr"
        },
        {
          "output_type": "execute_result",
          "data": {
            "text/plain": [
              "[('महिला', 0.6536839604377747),\n",
              " ('समूहबाट', 0.6184061765670776),\n",
              " ('तोड्दै', 0.584892988204956)]"
            ]
          },
          "metadata": {
            "tags": []
          },
          "execution_count": 25
        }
      ]
    },
    {
      "cell_type": "code",
      "metadata": {
        "id": "GpBEv9P88_pi",
        "colab_type": "code",
        "outputId": "02bf2c01-7a10-4c5f-edc8-403c601bc178",
        "colab": {
          "base_uri": "https://localhost:8080/",
          "height": 178
        }
      },
      "source": [
        "model.save(\"word2vec_NP.model\")"
      ],
      "execution_count": 0,
      "outputs": [
        {
          "output_type": "stream",
          "text": [
            "2020-01-13 16:17:59,609 : INFO : saving Word2Vec object under word2vec_NP.model, separately None\n",
            "2020-01-13 16:17:59,610 : INFO : storing np array 'vectors' to word2vec_NP.model.wv.vectors.npy\n",
            "2020-01-13 16:17:59,647 : INFO : not storing attribute vectors_norm\n",
            "2020-01-13 16:17:59,647 : INFO : storing np array 'syn1neg' to word2vec_NP.model.trainables.syn1neg.npy\n",
            "2020-01-13 16:17:59,681 : INFO : not storing attribute cum_table\n",
            "/usr/local/lib/python3.6/dist-packages/smart_open/smart_open_lib.py:402: UserWarning: This function is deprecated, use smart_open.open instead. See the migration notes for details: https://github.com/RaRe-Technologies/smart_open/blob/master/README.rst#migrating-to-the-new-open-function\n",
            "  'See the migration notes for details: %s' % _MIGRATION_NOTES_URL\n",
            "2020-01-13 16:17:59,757 : INFO : saved word2vec_NP.model\n"
          ],
          "name": "stderr"
        }
      ]
    },
    {
      "cell_type": "code",
      "metadata": {
        "id": "pvRXQVJbs5WS",
        "colab_type": "code",
        "colab": {}
      },
      "source": [
        "!mkdir \"/content/gdrive/My Drive/NLP/gensim/\""
      ],
      "execution_count": 0,
      "outputs": []
    },
    {
      "cell_type": "code",
      "metadata": {
        "id": "kTDCtPMesi6f",
        "colab_type": "code",
        "colab": {}
      },
      "source": [
        "!cp \"/content/word2vec_NP.model.wv.vectors.npy\" \"/content/gdrive/My Drive/NLP/gensim/\""
      ],
      "execution_count": 0,
      "outputs": []
    },
    {
      "cell_type": "code",
      "metadata": {
        "id": "yrqjnFjys_7c",
        "colab_type": "code",
        "colab": {}
      },
      "source": [
        ""
      ],
      "execution_count": 0,
      "outputs": []
    }
  ]
}